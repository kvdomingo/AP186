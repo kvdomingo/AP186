{
 "cells": [
  {
   "cell_type": "code",
   "execution_count": 1,
   "metadata": {
    "ExecuteTime": {
     "end_time": "2019-10-14T11:59:33.284928Z",
     "start_time": "2019-10-14T11:59:31.034877Z"
    }
   },
   "outputs": [],
   "source": [
    "import os\n",
    "import numpy as np\n",
    "import matplotlib as mpl\n",
    "import cv2 as cv\n",
    "from numpy import random as rand\n",
    "from scipy import stats\n",
    "from matplotlib import pyplot as plt, patches as patch\n",
    "from skimage import measure as meas, segmentation as seg, color as col, \\\n",
    "                    filters as filt, morphology as morph, feature as feat\n",
    "from tqdm import tnrange, tqdm_notebook as tqdm\n",
    "from jupyterthemes import jtplot"
   ]
  },
  {
   "cell_type": "code",
   "execution_count": 2,
   "metadata": {
    "ExecuteTime": {
     "end_time": "2019-10-14T11:59:33.348876Z",
     "start_time": "2019-10-14T11:59:33.340876Z"
    }
   },
   "outputs": [],
   "source": [
    "jtplot.reset()\n",
    "# mpl.use('nbAgg')\n",
    "plt.style.use(\"seaborn\")\n",
    "plt.rcParams[\"axes.axisbelow\"] = True\n",
    "plt.rcParams[\"text.usetex\"] = True\n",
    "plt.rcParams[\"font.family\"] = \"serif\"\n",
    "plt.rcParams[\"figure.figsize\"] = (16/2, 9/2)\n",
    "plt.rcParams[\"figure.dpi\"] = 100\n",
    "plt.rcParams[\"text.latex.preamble\"] = [r\"\\usepackage{physics}\"]"
   ]
  },
  {
   "cell_type": "code",
   "execution_count": 3,
   "metadata": {
    "ExecuteTime": {
     "end_time": "2019-10-14T11:59:33.430875Z",
     "start_time": "2019-10-14T11:59:33.409876Z"
    },
    "code_folding": []
   },
   "outputs": [],
   "source": [
    "class VideoToGraph:\n",
    "    \n",
    "    def __init__(self, filename):\n",
    "        self.filename = filename\n",
    "        self.frame_store = []\n",
    "        self.fname = filename[:-4]\n",
    "        self.fps = 59.94\n",
    "    \n",
    "    def trackObject(self):\n",
    "        frame_store = self.frame_store\n",
    "        filename = self.filename\n",
    "        \n",
    "        cap = cv.VideoCapture(filename)\n",
    "        cv.namedWindow('VideoToGraph', cv.WINDOW_NORMAL)\n",
    "        ret, frame1 = cap.read()\n",
    "        prvs = cv.cvtColor(frame1,cv.COLOR_BGR2GRAY)\n",
    "        hsv = np.zeros_like(frame1)\n",
    "        hsv[...,1] = 255\n",
    "        while(1):\n",
    "            ret, frame2 = cap.read()\n",
    "            if not ret:\n",
    "                break\n",
    "            next = cv.cvtColor(frame2,cv.COLOR_BGR2GRAY)\n",
    "            flow = cv.calcOpticalFlowFarneback(prvs, next, \n",
    "                                               flow=None, \n",
    "                                               pyr_scale=0.5, \n",
    "                                               levels=3, \n",
    "                                               winsize=21, \n",
    "                                               iterations=3, \n",
    "                                               poly_n=7, \n",
    "                                               poly_sigma=1.5, \n",
    "                                               flags=cv.OPTFLOW_FARNEBACK_GAUSSIAN)\n",
    "            mag, ang = cv.cartToPolar(flow[...,0], flow[...,1])\n",
    "            frame_store.append(mag)\n",
    "            hsv[...,0] = ang*180/np.pi/2\n",
    "            hsv[...,2] = cv.normalize(mag,None,0,255,cv.NORM_MINMAX)\n",
    "            bgr = cv.cvtColor(hsv,cv.COLOR_HSV2BGR)\n",
    "            cv.imshow('VideoToGraph', bgr)\n",
    "            k = cv.waitKey(30) & 0xff\n",
    "            if k == 27:\n",
    "                break\n",
    "            elif k == ord('s'):\n",
    "                cv.imwrite('opticalfb.png',frame2)\n",
    "                cv.imwrite('opticalhsv.png',bgr)\n",
    "            prvs = next\n",
    "        cap.release()\n",
    "        cv.destroyAllWindows()\n",
    "        self.frame_store = frame_store\n",
    "    \n",
    "    def plotObject(self):\n",
    "        frame_store = self.frame_store\n",
    "        fps = self.fps\n",
    "        fname = self.fname\n",
    "        \n",
    "        x_avg = []\n",
    "        for i in range(len(frame_store)):\n",
    "            x_avg.append(np.argmax(frame_store[i].mean(axis=0)))\n",
    "\n",
    "        t = np.linspace(0, len(frame_store)/fps, len(frame_store))\n",
    "        x_avg = np.array(x_avg) * 1e-2\n",
    "        grad_px = np.array([331.79, 336.16, 305.22, 334.69, 326,80]).mean() * 1e-2\n",
    "        grad_cm = np.array([11.70, 11.86, 10.77, 11.81, 11.53]).mean() * 1e-2\n",
    "        s_img = x_avg * grad_cm / grad_px\n",
    "\n",
    "        dt = t[1] - t[0]\n",
    "        v_avg = np.zeros_like(s_img)\n",
    "        for i in range(1, len(s_img)):\n",
    "            v_avg[1:] = np.diff(s_img)/dt\n",
    "\n",
    "        fig, (ax1, ax2) = mp.subplots(2, 1, sharex=True)\n",
    "\n",
    "        ax1.plot(t, s_img, \"bo\")\n",
    "        ax1.set_ylabel(\"Displacement, m\")\n",
    "        ax1.set_title(\"_\".join(fname.split(\"_\")[0:1]) + \" \" + \"_\".join(fname.split(\"_\")[1:]))\n",
    "        ax1.grid(True)\n",
    "        posname = fname + \"_pos.txt\"\n",
    "        np.savetxt(posname, np.array([t, s_img]))\n",
    "\n",
    "        ax2.plot(t, v_avg, \"go\")\n",
    "        ax2.set_xlabel(\"Time, s\")\n",
    "        ax2.set_ylabel(\"Velocity, m/s\")\n",
    "        ax2.grid(True)\n",
    "        velname = fname + \"_vel.txt\"\n",
    "        np.savetxt(velname, np.array([t, v_avg]))\n",
    "\n",
    "        sname = fname + \".png\"\n",
    "        mp.savefig(sname, bbox_inches=\"tight\", dpi=300)\n",
    "        mp.show()\n",
    "        \n",
    "    def run(self):\n",
    "        self.trackObject()\n",
    "        self.plotObject()"
   ]
  },
  {
   "cell_type": "code",
   "execution_count": 4,
   "metadata": {
    "ExecuteTime": {
     "end_time": "2019-10-14T11:59:33.528874Z",
     "start_time": "2019-10-14T11:59:33.488875Z"
    }
   },
   "outputs": [],
   "source": [
    "class ImageSegment:\n",
    "    \n",
    "    def __init__(self, image):\n",
    "        if type(image) == str:\n",
    "            self.image = cv.imread(image)\n",
    "        elif type(image) == np.ndarray:\n",
    "            self.image = image\n",
    "        else:\n",
    "            raise NotImplementedError\n",
    "        self.image_hist = np.squeeze(cv.calcHist([self.image.ravel()], [0], None, [256], [0, 255]))\n",
    "        eps = 1e-4\n",
    "#         self.image[np.where(-eps < self.image.all() < eps)[0]] = 1e5\n",
    "        self.cropping = False\n",
    "        self.sel_rect_endpoint = None\n",
    "        self.refpt = None\n",
    "        \n",
    "    def BGR2NCC(self, img):\n",
    "        I = img.sum(axis=2)\n",
    "        b, g, r = cv.split(img)/I\n",
    "        return I, r, g\n",
    "\n",
    "    def pixelLikelihood(self, r, mu, sigma):\n",
    "        return 1/(sigma*np.sqrt(2*np.pi)) * np.exp(-(r - mu)**2/(2 * sigma**2))\n",
    "    \n",
    "    def ColorPicker(self, event, x, y, flags, param):\n",
    "        if event == cv.EVENT_LBUTTONDOWN:\n",
    "            self.refpt = [(x, y)]\n",
    "            self.cropping = True\n",
    "            \n",
    "        elif event == cv.EVENT_LBUTTONUP:\n",
    "            self.refpt.append((x, y))\n",
    "            self.cropping = False\n",
    "\n",
    "            cv.rectangle(self.image, self.refpt[0], self.refpt[1], (0, 255, 0), 2)\n",
    "            cv.imshow('macbeth', self.image)\n",
    "            \n",
    "        elif event == cv.EVENT_MOUSEMOVE and self.cropping:\n",
    "            self.sel_rect_endpoint = [(x, y)]\n",
    "            \n",
    "    def get_ROI(self):\n",
    "        image = (self.image/self.image.max()).astype('float32')\n",
    "        clone = image.copy()\n",
    "        cv.namedWindow('macbeth', cv.WINDOW_NORMAL)\n",
    "        if image.shape[0] > image.shape[1]:\n",
    "            cv.resizeWindow('macbeth', 400, 600)\n",
    "        else:\n",
    "            cv.resizeWindow('macbeth', 600, 400)\n",
    "        cv.setMouseCallback('macbeth', self.ColorPicker)\n",
    "\n",
    "        while True:\n",
    "            if not self.cropping:\n",
    "                cv.imshow('macbeth', self.image)\n",
    "            elif self.cropping and self.sel_rect_endpoint:\n",
    "                rect_cpy = image.copy()\n",
    "                cv.rectangle(rect_cpy, self.refpt[0], self.sel_rect_endpoint[0], (0, 255, 0), 1)\n",
    "                cv.imshow('macbeth', rect_cpy)\n",
    "            \n",
    "            key = cv.waitKey(1) & 0xFF\n",
    "            if key == ord('r'):\n",
    "                image = clone.copy()\n",
    "\n",
    "            elif key == ord('c'):\n",
    "                break\n",
    "\n",
    "        if len(self.refpt) == 2:\n",
    "            self.roi = clone[self.refpt[0][1]:self.refpt[1][1], self.refpt[0][0]:self.refpt[1][0]]\n",
    "            cv.imshow(\"ROI\", self.roi)\n",
    "            cv.waitKey(0)\n",
    "\n",
    "        cv.destroyAllWindows()\n",
    "    \n",
    "    def get_chromaROI(self):\n",
    "        I, r, g = self.BGR2NCC(self.roi)\n",
    "        self.mu_r, self.sigma_r = np.mean(r), np.std(r)\n",
    "        self.mu_g, self.sigma_g = np.mean(g), np.std(g)\n",
    "        \n",
    "    def get_chromaIMG(self):\n",
    "        image = (self.image/self.image.max()).astype('float32')\n",
    "        I, r, g = self.BGR2NCC(image)\n",
    "        pr = self.pixelLikelihood(r, self.mu_r, self.sigma_r)\n",
    "        pg = self.pixelLikelihood(g, self.mu_g, self.sigma_g)\n",
    "        self.combinedHist = pr * pg\n",
    "        self.param_out = self.combinedHist.copy()\n",
    "        \n",
    "    def get_histROI(self, bins=32, plot_hist=False):\n",
    "        I, r, g = self.BGR2NCC(self.roi)\n",
    "        rint = (r*(bins-1)).astype('uint8')\n",
    "        gint = (g*(bins-1)).astype('uint8')\n",
    "        rg = np.dstack((rint, gint))\n",
    "        hist = cv.calcHist([rg], [0, 1], None, [bins, bins], [0, bins-1, 0, bins-1])\n",
    "        if plot_hist:\n",
    "            mp.figure(figsize=(5, 5))\n",
    "            cl_hist = np.clip(hist, 0, bins-1)\n",
    "            mp.imshow(cl_hist, 'gray', origin='lower')\n",
    "            mp.xlabel('$g$')\n",
    "            mp.ylabel('$r$')\n",
    "            mp.grid(0)\n",
    "            mp.show()\n",
    "        self.histROI = hist\n",
    "        self.bins = bins\n",
    "        \n",
    "    def get_histIMG(self):\n",
    "        bins = self.bins\n",
    "        I, r, g = self.BGR2NCC(self.image)\n",
    "        rproj = (r*(bins-1)).astype('uint8')\n",
    "        gproj = (g*(bins-1)).astype('uint8')\n",
    "        proj_array = np.zeros(r.shape)\n",
    "        for i in range(r.shape[0]):\n",
    "            for j in range(r.shape[1]):\n",
    "                proj_array[i,j] = self.histROI[rproj[i,j], gproj[i,j]]\n",
    "        self.combinedHist = proj_array\n",
    "        self.nparam_out = self.combinedHist.copy()\n",
    "    \n",
    "    def plot_segment(self):\n",
    "        fig = plt.figure(figsize=(16, 9))\n",
    "        \n",
    "        ax = fig.add_subplot(121)\n",
    "        ax.imshow(self.image[:,:,::-1])\n",
    "        ax.axis('off')\n",
    "        ax.grid(0)\n",
    "        \n",
    "        ax = fig.add_subplot(122)\n",
    "        ax.imshow(self.combinedHist, 'gray')\n",
    "        ax.axis('off')\n",
    "        ax.grid(0)\n",
    "\n",
    "        plt.show()\n",
    "        \n",
    "    def parametric(self, **kwargs):\n",
    "        if self.refpt is None:\n",
    "            self.get_ROI()\n",
    "        self.get_chromaROI()\n",
    "        self.get_chromaIMG()\n",
    "#         self.plot_segment()\n",
    "        \n",
    "    def nonparametric(self, **kwargs):\n",
    "        if self.refpt is None:\n",
    "            self.get_ROI()\n",
    "        self.get_histROI(**kwargs)\n",
    "        self.get_histIMG()\n",
    "#         self.plot_segment()\n",
    "\n",
    "    def otsu(self):\n",
    "        image = self.image.copy()\n",
    "        image = (image/image.max() * 255).astype('uint8')\n",
    "        hist = np.squeeze(cv.calcHist([image], [0], None, [256], [0, 255]))\n",
    "        total = image.size\n",
    "        top = 256\n",
    "        sumB = 0\n",
    "        wB = 0\n",
    "        maximum = 0.0\n",
    "        sum1 = np.arange(top) @ hist\n",
    "        for i in range(top):\n",
    "            wF = total - wB\n",
    "            if wB > 0 and wF > 0:\n",
    "                mF = (sum1 - sumB) / wF\n",
    "                val = wB * wF * ((sumB/wB) - mF)**2\n",
    "                if val >= maximum:\n",
    "                    level = i\n",
    "                    maximum = val\n",
    "            wB += hist[i]\n",
    "            sumB += i * hist[i]\n",
    "        self.level = level\n",
    "        \n",
    "    def main(self, savename=None, **kwargs):\n",
    "        self.parametric(**kwargs)\n",
    "        self.nonparametric(**kwargs)\n",
    "        if self.image.shape[0] > self.image.shape[1]:\n",
    "            fig = plt.figure(figsize=(16/2, 9/2))\n",
    "        else:\n",
    "            fig = plt.figure(figsize=(16/2*2, 9/2))\n",
    "        \n",
    "        ax = fig.add_subplot(131)\n",
    "        ax.imshow(self.image[:,:,::-1])\n",
    "        ax.axis('off')\n",
    "        ax.grid(0)\n",
    "        ax.set_title('original')\n",
    "        \n",
    "        ax = fig.add_subplot(132)\n",
    "        ax.imshow(self.param_out, 'gray')\n",
    "        ax.axis('off')\n",
    "        ax.grid(0)\n",
    "        ax.set_title('parametric')\n",
    "        \n",
    "        ax = fig.add_subplot(133)\n",
    "        ax.imshow(self.nparam_out, 'gray')\n",
    "        ax.axis('off')\n",
    "        ax.grid(0)\n",
    "        ax.set_title('non-parametric')\n",
    "        \n",
    "        plt.tight_layout()\n",
    "        if savename is not None:\n",
    "            plt.savefig(savename, dpi=300, bbox_inches='tight')\n",
    "        plt.show()"
   ]
  },
  {
   "cell_type": "markdown",
   "metadata": {},
   "source": [
    "## Viscosity"
   ]
  },
  {
   "cell_type": "code",
   "execution_count": 146,
   "metadata": {
    "ExecuteTime": {
     "end_time": "2019-10-10T03:46:39.026952Z",
     "start_time": "2019-10-10T03:45:48.243607Z"
    }
   },
   "outputs": [],
   "source": [
    "filenames = os.listdir()\n",
    "for f in filenames:\n",
    "    if f.endswith('.avi'):\n",
    "        fn = f[:-4] + '/'\n",
    "        vid = VideoToGraph(f)\n",
    "        vid.trackObject()\n",
    "        for i,v in enumerate(vid.frame_store):\n",
    "            cv.imwrite(fn + str(i) + '.png', v)"
   ]
  },
  {
   "cell_type": "code",
   "execution_count": 203,
   "metadata": {
    "ExecuteTime": {
     "end_time": "2019-10-10T04:32:31.168498Z",
     "start_time": "2019-10-10T04:32:30.921265Z"
    }
   },
   "outputs": [],
   "source": [
    "parent_dir = 'castor_28g'\n",
    "filenames = os.listdir('%s/'%parent_dir)\n",
    "x_coords = []\n",
    "for n, f in enumerate(filenames):\n",
    "    frame = cv.imread('%s/%s.png'%(parent_dir, str(n)), 0)\n",
    "    thresh, frame = cv.threshold(frame, 127, 255, cv.THRESH_OTSU)\n",
    "    labeled = meas.label(frame)\n",
    "    props = meas.regionprops(labeled)\n",
    "    x_coords.append(props[0]['centroid'][1])"
   ]
  },
  {
   "cell_type": "code",
   "execution_count": 204,
   "metadata": {
    "ExecuteTime": {
     "end_time": "2019-10-10T04:32:40.853094Z",
     "start_time": "2019-10-10T04:32:40.847093Z"
    }
   },
   "outputs": [],
   "source": [
    "fps = 15\n",
    "t = np.linspace(0, len(x_coords)/fps, len(x_coords))\n",
    "x_coords = np.array(x_coords) * 1e-2\n",
    "grad_px = np.array([331.79, 336.16, 305.22, 334.69, 326,80]).mean() * 1e-2\n",
    "grad_cm = np.array([11.70, 11.86, 10.77, 11.81, 11.53]).mean() * 1e-2\n",
    "s_img = x_coords * grad_cm / grad_px\n",
    "\n",
    "dt = t[1] - t[0]\n",
    "v_avg = np.zeros_like(s_img)\n",
    "v_avg[1:] = np.diff(s_img)/dt"
   ]
  },
  {
   "cell_type": "code",
   "execution_count": 222,
   "metadata": {
    "ExecuteTime": {
     "end_time": "2019-10-10T04:38:02.972587Z",
     "start_time": "2019-10-10T04:38:02.443503Z"
    }
   },
   "outputs": [
    {
     "data": {
      "image/png": "[encoded data removed]",
      "text/plain": [
       "<Figure size 800x450 with 2 Axes>"
      ]
     },
     "metadata": {},
     "output_type": "display_data"
    }
   ],
   "source": [
    "fig, ax = plt.subplots(2, 1, sharex=True, figsize=(16/2, 9/2))\n",
    "\n",
    "ax[0].plot(t, s_img, 'o')\n",
    "ax[0].set_ylabel('position, m')\n",
    "\n",
    "ax[1].plot(t, v_avg, 'o')\n",
    "ax[1].set_xlabel('time, s')\n",
    "ax[1].set_ylabel('velocity, m/s')\n",
    "\n",
    "plt.tight_layout()\n",
    "plt.show()"
   ]
  },
  {
   "cell_type": "markdown",
   "metadata": {},
   "source": [
    "## Gravitational acceleration"
   ]
  },
  {
   "cell_type": "code",
   "execution_count": 5,
   "metadata": {
    "ExecuteTime": {
     "end_time": "2019-10-14T11:59:35.156160Z",
     "start_time": "2019-10-14T11:59:35.151160Z"
    }
   },
   "outputs": [],
   "source": [
    "f = r'D:\\Kenneth\\Documents\\5-1\\App Physics 186\\Activity 11\\KVD_7296.mp4'"
   ]
  },
  {
   "cell_type": "code",
   "execution_count": 5,
   "metadata": {
    "ExecuteTime": {
     "end_time": "2019-10-14T10:46:13.781912Z",
     "start_time": "2019-10-14T10:44:23.562854Z"
    }
   },
   "outputs": [],
   "source": [
    "vid = VideoToGraph(f)\n",
    "vid.trackObject()\n",
    "for i,v in enumerate(vid.frame_store):\n",
    "    cv.imwrite('7296/' + str(i) + '.png', v)"
   ]
  },
  {
   "cell_type": "code",
   "execution_count": 6,
   "metadata": {
    "ExecuteTime": {
     "end_time": "2019-10-14T12:03:59.810878Z",
     "start_time": "2019-10-14T12:00:04.377494Z"
    },
    "scrolled": true
   },
   "outputs": [
    {
     "data": {
      "image/png": "[encoded data removed]",
      "text/plain": [
       "<Figure size 800x450 with 1 Axes>"
      ]
     },
     "metadata": {},
     "output_type": "display_data"
    },
    {
     "data": {
      "image/png": "[encoded data removed]",
      "text/plain": [
       "<Figure size 800x450 with 1 Axes>"
      ]
     },
     "metadata": {},
     "output_type": "display_data"
    },
    {
     "data": {
      "image/png": "[encoded data removed]",
      "text/plain": [
       "<Figure size 800x450 with 1 Axes>"
      ]
     },
     "metadata": {},
     "output_type": "display_data"
    },
    {
     "data": {
      "image/png": "[encoded data removed]",
      "text/plain": [
       "<Figure size 800x450 with 1 Axes>"
      ]
     },
     "metadata": {},
     "output_type": "display_data"
    },
    {
     "data": {
      "image/png": "[encoded data removed]",
      "text/plain": [
       "<Figure size 800x450 with 1 Axes>"
      ]
     },
     "metadata": {},
     "output_type": "display_data"
    },
    {
     "data": {
      "image/png": "[encoded data removed]",
      "text/plain": [
       "<Figure size 800x450 with 1 Axes>"
      ]
     },
     "metadata": {},
     "output_type": "display_data"
    },
    {
     "data": {
      "image/png": "[encoded data removed]",
      "text/plain": [
       "<Figure size 800x450 with 1 Axes>"
      ]
     },
     "metadata": {},
     "output_type": "display_data"
    },
    {
     "data": {
      "image/png": "[encoded data removed]",
      "text/plain": [
       "<Figure size 800x450 with 1 Axes>"
      ]
     },
     "metadata": {},
     "output_type": "display_data"
    },
    {
     "data": {
      "image/png": "[encoded data removed]",
      "text/plain": [
       "<Figure size 800x450 with 1 Axes>"
      ]
     },
     "metadata": {},
     "output_type": "display_data"
    },
    {
     "data": {
      "image/png": "[encoded data removed]",
      "text/plain": [
       "<Figure size 800x450 with 1 Axes>"
      ]
     },
     "metadata": {},
     "output_type": "display_data"
    },
    {
     "data": {
      "image/png": "[encoded data removed]",
      "text/plain": [
       "<Figure size 800x450 with 1 Axes>"
      ]
     },
     "metadata": {},
     "output_type": "display_data"
    },
    {
     "data": {
      "image/png": "[encoded data removed]",
      "text/plain": [
       "<Figure size 800x450 with 1 Axes>"
      ]
     },
     "metadata": {},
     "output_type": "display_data"
    },
    {
     "data": {
      "image/png": "[encoded data removed]",
      "text/plain": [
       "<Figure size 800x450 with 1 Axes>"
      ]
     },
     "metadata": {},
     "output_type": "display_data"
    },
    {
     "data": {
      "image/png": "[encoded data removed]",
      "text/plain": [
       "<Figure size 800x450 with 1 Axes>"
      ]
     },
     "metadata": {},
     "output_type": "display_data"
    },
    {
     "data": {
      "image/png": "[encoded data removed]",
      "text/plain": [
       "<Figure size 800x450 with 1 Axes>"
      ]
     },
     "metadata": {},
     "output_type": "display_data"
    },
    {
     "data": {
      "image/png": "[encoded data removed]",
      "text/plain": [
       "<Figure size 800x450 with 1 Axes>"
      ]
     },
     "metadata": {},
     "output_type": "display_data"
    },
    {
     "data": {
      "image/png": "[encoded data removed]",
      "text/plain": [
       "<Figure size 800x450 with 1 Axes>"
      ]
     },
     "metadata": {},
     "output_type": "display_data"
    },
    {
     "data": {
      "image/png": "[encoded data removed]",
      "text/plain": [
       "<Figure size 800x450 with 1 Axes>"
      ]
     },
     "metadata": {},
     "output_type": "display_data"
    },
    {
     "data": {
      "image/png": "[encoded data removed]",
      "text/plain": [
       "<Figure size 800x450 with 1 Axes>"
      ]
     },
     "metadata": {},
     "output_type": "display_data"
    },
    {
     "data": {
      "image/png": "[encoded data removed]",
      "text/plain": [
       "<Figure size 800x450 with 1 Axes>"
      ]
     },
     "metadata": {},
     "output_type": "display_data"
    },
    {
     "data": {
      "image/png": "[encoded data removed]",
      "text/plain": [
       "<Figure size 800x450 with 1 Axes>"
      ]
     },
     "metadata": {},
     "output_type": "display_data"
    },
    {
     "data": {
      "image/png": "[encoded data removed]",
      "text/plain": [
       "<Figure size 800x450 with 1 Axes>"
      ]
     },
     "metadata": {},
     "output_type": "display_data"
    },
    {
     "data": {
      "image/png": "[encoded data removed]",
      "text/plain": [
       "<Figure size 800x450 with 1 Axes>"
      ]
     },
     "metadata": {},
     "output_type": "display_data"
    },
    {
     "data": {
      "image/png": "[encoded data removed]",
      "text/plain": [
       "<Figure size 800x450 with 1 Axes>"
      ]
     },
     "metadata": {},
     "output_type": "display_data"
    },
    {
     "data": {
      "image/png": "[encoded data removed]",
      "text/plain": [
       "<Figure size 800x450 with 1 Axes>"
      ]
     },
     "metadata": {},
     "output_type": "display_data"
    },
    {
     "data": {
      "image/png": "[encoded data removed]",
      "text/plain": [
       "<Figure size 800x450 with 1 Axes>"
      ]
     },
     "metadata": {},
     "output_type": "display_data"
    },
    {
     "data": {
      "image/png": "[encoded data removed]",
      "text/plain": [
       "<Figure size 800x450 with 1 Axes>"
      ]
     },
     "metadata": {},
     "output_type": "display_data"
    },
    {
     "data": {
      "image/png": "[encoded data removed]",
      "text/plain": [
       "<Figure size 800x450 with 1 Axes>"
      ]
     },
     "metadata": {},
     "output_type": "display_data"
    },
    {
     "data": {
      "image/png": "[encoded data removed]",
      "text/plain": [
       "<Figure size 800x450 with 1 Axes>"
      ]
     },
     "metadata": {},
     "output_type": "display_data"
    },
    {
     "data": {
      "image/png": "[encoded data removed]",
      "text/plain": [
       "<Figure size 800x450 with 1 Axes>"
      ]
     },
     "metadata": {},
     "output_type": "display_data"
    },
    {
     "data": {
      "image/png": "[encoded data removed]",
      "text/plain": [
       "<Figure size 800x450 with 1 Axes>"
      ]
     },
     "metadata": {},
     "output_type": "display_data"
    },
    {
     "data": {
      "image/png": "[encoded data removed]",
      "text/plain": [
       "<Figure size 800x450 with 1 Axes>"
      ]
     },
     "metadata": {},
     "output_type": "display_data"
    },
    {
     "data": {
      "image/png": "[encoded data removed]",
      "text/plain": [
       "<Figure size 800x450 with 1 Axes>"
      ]
     },
     "metadata": {},
     "output_type": "display_data"
    },
    {
     "data": {
      "image/png": "[encoded data removed]",
      "text/plain": [
       "<Figure size 800x450 with 1 Axes>"
      ]
     },
     "metadata": {},
     "output_type": "display_data"
    },
    {
     "data": {
      "image/png": "[encoded data removed]",
      "text/plain": [
       "<Figure size 800x450 with 1 Axes>"
      ]
     },
     "metadata": {},
     "output_type": "display_data"
    },
    {
     "data": {
      "image/png": "[encoded data removed]",
      "text/plain": [
       "<Figure size 800x450 with 1 Axes>"
      ]
     },
     "metadata": {},
     "output_type": "display_data"
    },
    {
     "data": {
      "image/png": "[encoded data removed]",
      "text/plain": [
       "<Figure size 800x450 with 1 Axes>"
      ]
     },
     "metadata": {},
     "output_type": "display_data"
    },
    {
     "data": {
      "image/png": "[encoded data removed]",
      "text/plain": [
       "<Figure size 800x450 with 1 Axes>"
      ]
     },
     "metadata": {},
     "output_type": "display_data"
    },
    {
     "data": {
      "image/png": "[encoded data removed]",
      "text/plain": [
       "<Figure size 800x450 with 1 Axes>"
      ]
     },
     "metadata": {},
     "output_type": "display_data"
    },
    {
     "data": {
      "image/png": "[encoded data removed]",
      "text/plain": [
       "<Figure size 800x450 with 1 Axes>"
      ]
     },
     "metadata": {},
     "output_type": "display_data"
    },
    {
     "data": {
      "image/png": "[encoded data removed]",
      "text/plain": [
       "<Figure size 800x450 with 1 Axes>"
      ]
     },
     "metadata": {},
     "output_type": "display_data"
    },
    {
     "data": {
      "image/png": "[encoded data removed]",
      "text/plain": [
       "<Figure size 800x450 with 1 Axes>"
      ]
     },
     "metadata": {},
     "output_type": "display_data"
    },
    {
     "data": {
      "image/png": "[encoded data removed]",
      "text/plain": [
       "<Figure size 800x450 with 1 Axes>"
      ]
     },
     "metadata": {},
     "output_type": "display_data"
    },
    {
     "data": {
      "image/png": "[encoded data removed]",
      "text/plain": [
       "<Figure size 800x450 with 1 Axes>"
      ]
     },
     "metadata": {},
     "output_type": "display_data"
    },
    {
     "data": {
      "image/png": "[encoded data removed]",
      "text/plain": [
       "<Figure size 800x450 with 1 Axes>"
      ]
     },
     "metadata": {},
     "output_type": "display_data"
    },
    {
     "data": {
      "image/png": "[encoded data removed]",
      "text/plain": [
       "<Figure size 800x450 with 1 Axes>"
      ]
     },
     "metadata": {},
     "output_type": "display_data"
    },
    {
     "data": {
      "image/png": "[encoded data removed]",
      "text/plain": [
       "<Figure size 800x450 with 1 Axes>"
      ]
     },
     "metadata": {},
     "output_type": "display_data"
    },
    {
     "data": {
      "image/png": "[encoded data removed]",
      "text/plain": [
       "<Figure size 800x450 with 1 Axes>"
      ]
     },
     "metadata": {},
     "output_type": "display_data"
    },
    {
     "data": {
      "image/png": "[encoded data removed]",
      "text/plain": [
       "<Figure size 800x450 with 1 Axes>"
      ]
     },
     "metadata": {},
     "output_type": "display_data"
    },
    {
     "data": {
      "image/png": "[encoded data removed]",
      "text/plain": [
       "<Figure size 800x450 with 1 Axes>"
      ]
     },
     "metadata": {},
     "output_type": "display_data"
    },
    {
     "data": {
      "image/png": "[encoded data removed]",
      "text/plain": [
       "<Figure size 800x450 with 1 Axes>"
      ]
     },
     "metadata": {},
     "output_type": "display_data"
    },
    {
     "data": {
      "image/png": "[encoded data removed]",
      "text/plain": [
       "<Figure size 800x450 with 1 Axes>"
      ]
     },
     "metadata": {},
     "output_type": "display_data"
    },
    {
     "data": {
      "image/png": "[encoded data removed]",
      "text/plain": [
       "<Figure size 800x450 with 1 Axes>"
      ]
     },
     "metadata": {},
     "output_type": "display_data"
    },
    {
     "data": {
      "image/png": "[encoded data removed]",
      "text/plain": [
       "<Figure size 800x450 with 1 Axes>"
      ]
     },
     "metadata": {},
     "output_type": "display_data"
    },
    {
     "data": {
      "image/png": "[encoded data removed]",
      "text/plain": [
       "<Figure size 800x450 with 1 Axes>"
      ]
     },
     "metadata": {},
     "output_type": "display_data"
    },
    {
     "data": {
      "image/png": "[encoded data removed]",
      "text/plain": [
       "<Figure size 800x450 with 1 Axes>"
      ]
     },
     "metadata": {},
     "output_type": "display_data"
    },
    {
     "data": {
      "image/png": "[encoded data removed]",
      "text/plain": [
       "<Figure size 800x450 with 1 Axes>"
      ]
     },
     "metadata": {},
     "output_type": "display_data"
    },
    {
     "data": {
      "image/png": "[encoded data removed]",
      "text/plain": [
       "<Figure size 800x450 with 1 Axes>"
      ]
     },
     "metadata": {},
     "output_type": "display_data"
    },
    {
     "data": {
      "image/png": "[encoded data removed]",
      "text/plain": [
       "<Figure size 800x450 with 1 Axes>"
      ]
     },
     "metadata": {},
     "output_type": "display_data"
    },
    {
     "data": {
      "image/png": "[encoded data removed]",
      "text/plain": [
       "<Figure size 800x450 with 1 Axes>"
      ]
     },
     "metadata": {},
     "output_type": "display_data"
    },
    {
     "data": {
      "image/png": "[encoded data removed]",
      "text/plain": [
       "<Figure size 800x450 with 1 Axes>"
      ]
     },
     "metadata": {},
     "output_type": "display_data"
    },
    {
     "data": {
      "image/png": "[encoded data removed]",
      "text/plain": [
       "<Figure size 800x450 with 1 Axes>"
      ]
     },
     "metadata": {},
     "output_type": "display_data"
    },
    {
     "data": {
      "image/png": "[encoded data removed]",
      "text/plain": [
       "<Figure size 800x450 with 1 Axes>"
      ]
     },
     "metadata": {},
     "output_type": "display_data"
    },
    {
     "data": {
      "image/png": "[encoded data removed]",
      "text/plain": [
       "<Figure size 800x450 with 1 Axes>"
      ]
     },
     "metadata": {},
     "output_type": "display_data"
    },
    {
     "data": {
      "image/png": "[encoded data removed]",
      "text/plain": [
       "<Figure size 800x450 with 1 Axes>"
      ]
     },
     "metadata": {},
     "output_type": "display_data"
    },
    {
     "data": {
      "image/png": "[encoded data removed]",
      "text/plain": [
       "<Figure size 800x450 with 1 Axes>"
      ]
     },
     "metadata": {},
     "output_type": "display_data"
    },
    {
     "data": {
      "image/png": "[encoded data removed]",
      "text/plain": [
       "<Figure size 800x450 with 1 Axes>"
      ]
     },
     "metadata": {},
     "output_type": "display_data"
    },
    {
     "data": {
      "image/png": "[encoded data removed]",
      "text/plain": [
       "<Figure size 800x450 with 1 Axes>"
      ]
     },
     "metadata": {},
     "output_type": "display_data"
    },
    {
     "data": {
      "image/png": "[encoded data removed]",
      "text/plain": [
       "<Figure size 800x450 with 1 Axes>"
      ]
     },
     "metadata": {},
     "output_type": "display_data"
    },
    {
     "data": {
      "image/png": "[encoded data removed]",
      "text/plain": [
       "<Figure size 800x450 with 1 Axes>"
      ]
     },
     "metadata": {},
     "output_type": "display_data"
    },
    {
     "data": {
      "image/png": "[encoded data removed]",
      "text/plain": [
       "<Figure size 800x450 with 1 Axes>"
      ]
     },
     "metadata": {},
     "output_type": "display_data"
    },
    {
     "data": {
      "image/png": "[encoded data removed]",
      "text/plain": [
       "<Figure size 800x450 with 1 Axes>"
      ]
     },
     "metadata": {},
     "output_type": "display_data"
    },
    {
     "data": {
      "image/png": "[encoded data removed]",
      "text/plain": [
       "<Figure size 800x450 with 1 Axes>"
      ]
     },
     "metadata": {},
     "output_type": "display_data"
    },
    {
     "data": {
      "image/png": "[encoded data removed]",
      "text/plain": [
       "<Figure size 800x450 with 1 Axes>"
      ]
     },
     "metadata": {},
     "output_type": "display_data"
    },
    {
     "data": {
      "image/png": "[encoded data removed]",
      "text/plain": [
       "<Figure size 800x450 with 1 Axes>"
      ]
     },
     "metadata": {},
     "output_type": "display_data"
    },
    {
     "data": {
      "image/png": "[encoded data removed]",
      "text/plain": [
       "<Figure size 800x450 with 1 Axes>"
      ]
     },
     "metadata": {},
     "output_type": "display_data"
    },
    {
     "data": {
      "image/png": "[encoded data removed]",
      "text/plain": [
       "<Figure size 800x450 with 1 Axes>"
      ]
     },
     "metadata": {},
     "output_type": "display_data"
    },
    {
     "data": {
      "image/png": "[encoded data removed]",
      "text/plain": [
       "<Figure size 800x450 with 1 Axes>"
      ]
     },
     "metadata": {},
     "output_type": "display_data"
    },
    {
     "data": {
      "image/png": "[encoded data removed]",
      "text/plain": [
       "<Figure size 800x450 with 1 Axes>"
      ]
     },
     "metadata": {},
     "output_type": "display_data"
    },
    {
     "data": {
      "image/png": "[encoded data removed]",
      "text/plain": [
       "<Figure size 800x450 with 1 Axes>"
      ]
     },
     "metadata": {},
     "output_type": "display_data"
    },
    {
     "data": {
      "image/png": "[encoded data removed]",
      "text/plain": [
       "<Figure size 800x450 with 1 Axes>"
      ]
     },
     "metadata": {},
     "output_type": "display_data"
    },
    {
     "data": {
      "image/png": "[encoded data removed]",
      "text/plain": [
       "<Figure size 800x450 with 1 Axes>"
      ]
     },
     "metadata": {},
     "output_type": "display_data"
    },
    {
     "data": {
      "image/png": "[encoded data removed]",
      "text/plain": [
       "<Figure size 800x450 with 1 Axes>"
      ]
     },
     "metadata": {},
     "output_type": "display_data"
    },
    {
     "data": {
      "image/png": "[encoded data removed]",
      "text/plain": [
       "<Figure size 800x450 with 1 Axes>"
      ]
     },
     "metadata": {},
     "output_type": "display_data"
    },
    {
     "data": {
      "image/png": "[encoded data removed]",
      "text/plain": [
       "<Figure size 800x450 with 1 Axes>"
      ]
     },
     "metadata": {},
     "output_type": "display_data"
    },
    {
     "data": {
      "image/png": "[encoded data removed]",
      "text/plain": [
       "<Figure size 800x450 with 1 Axes>"
      ]
     },
     "metadata": {},
     "output_type": "display_data"
    },
    {
     "data": {
      "image/png": "[encoded data removed]",
      "text/plain": [
       "<Figure size 800x450 with 1 Axes>"
      ]
     },
     "metadata": {},
     "output_type": "display_data"
    },
    {
     "data": {
      "image/png": "[encoded data removed]",
      "text/plain": [
       "<Figure size 800x450 with 1 Axes>"
      ]
     },
     "metadata": {},
     "output_type": "display_data"
    },
    {
     "data": {
      "image/png": "[encoded data removed]",
      "text/plain": [
       "<Figure size 800x450 with 1 Axes>"
      ]
     },
     "metadata": {},
     "output_type": "display_data"
    },
    {
     "data": {
      "image/png": "[encoded data removed]",
      "text/plain": [
       "<Figure size 800x450 with 1 Axes>"
      ]
     },
     "metadata": {},
     "output_type": "display_data"
    },
    {
     "data": {
      "image/png": "[encoded data removed]",
      "text/plain": [
       "<Figure size 800x450 with 1 Axes>"
      ]
     },
     "metadata": {},
     "output_type": "display_data"
    },
    {
     "data": {
      "image/png": "[encoded data removed]",
      "text/plain": [
       "<Figure size 800x450 with 1 Axes>"
      ]
     },
     "metadata": {},
     "output_type": "display_data"
    },
    {
     "data": {
      "image/png": "[encoded data removed]",
      "text/plain": [
       "<Figure size 800x450 with 1 Axes>"
      ]
     },
     "metadata": {},
     "output_type": "display_data"
    },
    {
     "data": {
      "image/png": "[encoded data removed]",
      "text/plain": [
       "<Figure size 800x450 with 1 Axes>"
      ]
     },
     "metadata": {},
     "output_type": "display_data"
    },
    {
     "data": {
      "image/png": "[encoded data removed]",
      "text/plain": [
       "<Figure size 800x450 with 1 Axes>"
      ]
     },
     "metadata": {},
     "output_type": "display_data"
    },
    {
     "data": {
      "image/png": "[encoded data removed]",
      "text/plain": [
       "<Figure size 800x450 with 1 Axes>"
      ]
     },
     "metadata": {},
     "output_type": "display_data"
    },
    {
     "data": {
      "image/png": "[encoded data removed]",
      "text/plain": [
       "<Figure size 800x450 with 1 Axes>"
      ]
     },
     "metadata": {},
     "output_type": "display_data"
    },
    {
     "data": {
      "image/png": "[encoded data removed]",
      "text/plain": [
       "<Figure size 800x450 with 1 Axes>"
      ]
     },
     "metadata": {},
     "output_type": "display_data"
    },
    {
     "data": {
      "image/png": "[encoded data removed]",
      "text/plain": [
       "<Figure size 800x450 with 1 Axes>"
      ]
     },
     "metadata": {},
     "output_type": "display_data"
    },
    {
     "data": {
      "image/png": "[encoded data removed]",
      "text/plain": [
       "<Figure size 800x450 with 1 Axes>"
      ]
     },
     "metadata": {},
     "output_type": "display_data"
    },
    {
     "data": {
      "image/png": "[encoded data removed]",
      "text/plain": [
       "<Figure size 800x450 with 1 Axes>"
      ]
     },
     "metadata": {},
     "output_type": "display_data"
    },
    {
     "data": {
      "image/png": "[encoded data removed]",
      "text/plain": [
       "<Figure size 800x450 with 1 Axes>"
      ]
     },
     "metadata": {},
     "output_type": "display_data"
    },
    {
     "data": {
      "image/png": "[encoded data removed]",
      "text/plain": [
       "<Figure size 800x450 with 1 Axes>"
      ]
     },
     "metadata": {},
     "output_type": "display_data"
    },
    {
     "data": {
      "image/png": "[encoded data removed]",
      "text/plain": [
       "<Figure size 800x450 with 1 Axes>"
      ]
     },
     "metadata": {},
     "output_type": "display_data"
    },
    {
     "data": {
      "image/png": "[encoded data removed]",
      "text/plain": [
       "<Figure size 800x450 with 1 Axes>"
      ]
     },
     "metadata": {},
     "output_type": "display_data"
    },
    {
     "data": {
      "image/png": "[encoded data removed]",
      "text/plain": [
       "<Figure size 800x450 with 1 Axes>"
      ]
     },
     "metadata": {},
     "output_type": "display_data"
    },
    {
     "data": {
      "image/png": "[encoded data removed]",
      "text/plain": [
       "<Figure size 800x450 with 1 Axes>"
      ]
     },
     "metadata": {},
     "output_type": "display_data"
    },
    {
     "data": {
      "image/png": "[encoded data removed]",
      "text/plain": [
       "<Figure size 800x450 with 1 Axes>"
      ]
     },
     "metadata": {},
     "output_type": "display_data"
    },
    {
     "data": {
      "image/png": "[encoded data removed]",
      "text/plain": [
       "<Figure size 800x450 with 1 Axes>"
      ]
     },
     "metadata": {},
     "output_type": "display_data"
    },
    {
     "data": {
      "image/png": "[encoded data removed]",
      "text/plain": [
       "<Figure size 800x450 with 1 Axes>"
      ]
     },
     "metadata": {},
     "output_type": "display_data"
    },
    {
     "data": {
      "image/png": "[encoded data removed]",
      "text/plain": [
       "<Figure size 800x450 with 1 Axes>"
      ]
     },
     "metadata": {},
     "output_type": "display_data"
    },
    {
     "data": {
      "image/png": "[encoded data removed]",
      "text/plain": [
       "<Figure size 800x450 with 1 Axes>"
      ]
     },
     "metadata": {},
     "output_type": "display_data"
    },
    {
     "data": {
      "image/png": "[encoded data removed]",
      "text/plain": [
       "<Figure size 800x450 with 1 Axes>"
      ]
     },
     "metadata": {},
     "output_type": "display_data"
    },
    {
     "data": {
      "image/png": "[encoded data removed]",
      "text/plain": [
       "<Figure size 800x450 with 1 Axes>"
      ]
     },
     "metadata": {},
     "output_type": "display_data"
    },
    {
     "data": {
      "image/png": "[encoded data removed]",
      "text/plain": [
       "<Figure size 800x450 with 1 Axes>"
      ]
     },
     "metadata": {},
     "output_type": "display_data"
    },
    {
     "data": {
      "image/png": "[encoded data removed]",
      "text/plain": [
       "<Figure size 800x450 with 1 Axes>"
      ]
     },
     "metadata": {},
     "output_type": "display_data"
    },
    {
     "data": {
      "image/png": "[encoded data removed]",
      "text/plain": [
       "<Figure size 800x450 with 1 Axes>"
      ]
     },
     "metadata": {},
     "output_type": "display_data"
    },
    {
     "data": {
      "image/png": "[encoded data removed]",
      "text/plain": [
       "<Figure size 800x450 with 1 Axes>"
      ]
     },
     "metadata": {},
     "output_type": "display_data"
    },
    {
     "data": {
      "image/png": "[encoded data removed]",
      "text/plain": [
       "<Figure size 800x450 with 1 Axes>"
      ]
     },
     "metadata": {},
     "output_type": "display_data"
    }
   ],
   "source": [
    "cap = cv.VideoCapture(f)\n",
    "framebloblist = []\n",
    "count = 0\n",
    "while True:\n",
    "    ret, frame = cap.read()\n",
    "    if not ret:\n",
    "        break\n",
    "    if count == 0:\n",
    "        seg = ImageSegment(frame)\n",
    "        seg.nonparametric()\n",
    "    else:\n",
    "        seg.image = frame\n",
    "        seg.get_histIMG()\n",
    "    thres, out = cv.threshold(seg.nparam_out, 127, 255, cv.THRESH_BINARY)\n",
    "    out = cv.morphologyEx(out, cv.MORPH_CLOSE,\n",
    "                          cv.getStructuringElement(cv.MORPH_ELLIPSE, (11, 11)))\n",
    "    labeled = meas.label(out)\n",
    "    framebloblist.append(labeled)\n",
    "    cv.imwrite('7296/%i.png' %count, out)\n",
    "    plt.imshow(labeled, 'gray')\n",
    "    plt.axis('off')\n",
    "    plt.show()\n",
    "    plt.close('all')\n",
    "    count += 1"
   ]
  },
  {
   "cell_type": "code",
   "execution_count": 22,
   "metadata": {
    "ExecuteTime": {
     "end_time": "2019-10-14T12:10:30.307225Z",
     "start_time": "2019-10-14T12:10:29.418169Z"
    }
   },
   "outputs": [],
   "source": [
    "ycoord = []\n",
    "for i in range(len(framebloblist)):\n",
    "    props = meas.regionprops(framebloblist[i])\n",
    "    if len(props) != 0:\n",
    "        ycoord.append(props[0]['centroid'][0])"
   ]
  },
  {
   "cell_type": "code",
   "execution_count": 32,
   "metadata": {
    "ExecuteTime": {
     "end_time": "2019-10-14T12:15:09.571912Z",
     "start_time": "2019-10-14T12:15:08.682812Z"
    }
   },
   "outputs": [
    {
     "data": {
      "image/png": "[encoded data removed]",
      "text/plain": [
       "<Figure size 800x450 with 1 Axes>"
      ]
     },
     "metadata": {},
     "output_type": "display_data"
    }
   ],
   "source": [
    "fps = 60\n",
    "duration = len(ycoord)/fps\n",
    "t = np.arange(0, duration-1/fps, 1/fps)\n",
    "plt.plot(t, -np.array(ycoord), 'o')\n",
    "plt.xlabel('time, s')\n",
    "plt.ylabel('height, px')\n",
    "plt.show()"
   ]
  },
  {
   "cell_type": "code",
   "execution_count": null,
   "metadata": {},
   "outputs": [],
   "source": []
  }
 ],
 "metadata": {
  "kernelspec": {
   "display_name": "Python 3",
   "language": "python",
   "name": "python3"
  },
  "language_info": {
   "codemirror_mode": {
    "name": "ipython",
    "version": 3
   },
   "file_extension": ".py",
   "mimetype": "text/x-python",
   "name": "python",
   "nbconvert_exporter": "python",
   "pygments_lexer": "ipython3",
   "version": "3.6.9"
  },
  "latex_envs": {
   "LaTeX_envs_menu_present": true,
   "autoclose": true,
   "autocomplete": false,
   "bibliofile": "biblio.bib",
   "cite_by": "apalike",
   "current_citInitial": 1,
   "eqLabelWithNumbers": true,
   "eqNumInitial": 1,
   "hotkeys": {
    "equation": "Ctrl-E",
    "itemize": "Ctrl-I"
   },
   "labels_anchors": false,
   "latex_user_defs": false,
   "report_style_numbering": false,
   "user_envs_cfg": false
  },
  "varInspector": {
   "cols": {
    "lenName": 16,
    "lenType": 16,
    "lenVar": 40
   },
   "kernels_config": {
    "python": {
     "delete_cmd_postfix": "",
     "delete_cmd_prefix": "del ",
     "library": "var_list.py",
     "varRefreshCmd": "print(var_dic_list())"
    },
    "r": {
     "delete_cmd_postfix": ") ",
     "delete_cmd_prefix": "rm(",
     "library": "var_list.r",
     "varRefreshCmd": "cat(var_dic_list()) "
    }
   },
   "types_to_exclude": [
    "module",
    "function",
    "builtin_function_or_method",
    "instance",
    "_Feature"
   ],
   "window_display": false
  }
 },
 "nbformat": 4,
 "nbformat_minor": 2
}
