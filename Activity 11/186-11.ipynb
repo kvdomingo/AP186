{
 "cells": [
  {
   "cell_type": "code",
   "execution_count": 136,
   "metadata": {
    "ExecuteTime": {
     "end_time": "2019-10-10T03:23:17.308274Z",
     "start_time": "2019-10-10T03:23:17.303279Z"
    }
   },
   "outputs": [],
   "source": [
    "import os\n",
    "import numpy as np\n",
    "import matplotlib as mpl\n",
    "import cv2 as cv\n",
    "from numpy import random as rand\n",
    "from scipy import stats\n",
    "from matplotlib import pyplot as plt, patches as patch\n",
    "from skimage import measure as meas, segmentation as seg, color as col, \\\n",
    "                    filters as filt, morphology as morph, feature as feat\n",
    "from tqdm import tnrange, tqdm_notebook as tqdm\n",
    "from jupyterthemes import jtplot"
   ]
  },
  {
   "cell_type": "code",
   "execution_count": 31,
   "metadata": {
    "ExecuteTime": {
     "end_time": "2019-10-10T01:34:52.336449Z",
     "start_time": "2019-10-10T01:34:52.329433Z"
    }
   },
   "outputs": [],
   "source": [
    "jtplot.reset()\n",
    "# mpl.use('nbAgg')\n",
    "plt.style.use(\"seaborn\")\n",
    "plt.rcParams[\"axes.axisbelow\"] = True\n",
    "plt.rcParams[\"text.usetex\"] = True\n",
    "plt.rcParams[\"font.family\"] = \"serif\"\n",
    "plt.rcParams[\"figure.figsize\"] = (16/2, 9/2)\n",
    "plt.rcParams[\"figure.dpi\"] = 100\n",
    "plt.rcParams[\"text.latex.preamble\"] = [r\"\\usepackage{physics}\"]"
   ]
  },
  {
   "cell_type": "code",
   "execution_count": 138,
   "metadata": {
    "ExecuteTime": {
     "end_time": "2019-10-10T03:36:58.733910Z",
     "start_time": "2019-10-10T03:36:58.711909Z"
    }
   },
   "outputs": [],
   "source": [
    "class VideoToGraph:\n",
    "    \n",
    "    def __init__(self, filename):\n",
    "        self.filename = filename\n",
    "        self.frame_store = []\n",
    "        self.fname = filename[:-4]\n",
    "        self.fps = 59.94\n",
    "    \n",
    "    def trackObject(self):\n",
    "        frame_store = self.frame_store\n",
    "        filename = self.filename\n",
    "        \n",
    "        cap = cv.VideoCapture(filename)\n",
    "        ret, frame1 = cap.read()\n",
    "        prvs = cv.cvtColor(frame1,cv.COLOR_BGR2GRAY)\n",
    "        hsv = np.zeros_like(frame1)\n",
    "        hsv[...,1] = 255\n",
    "        while(1):\n",
    "            ret, frame2 = cap.read()\n",
    "            if not ret:\n",
    "                break\n",
    "            next = cv.cvtColor(frame2,cv.COLOR_BGR2GRAY)\n",
    "            flow = cv.calcOpticalFlowFarneback(prvs, next, None, 0.5, 3, 15, 3, 5, 1.2, 0)\n",
    "            mag, ang = cv.cartToPolar(flow[...,0], flow[...,1])\n",
    "            frame_store.append(mag)\n",
    "            hsv[...,0] = ang*180/np.pi/2\n",
    "            hsv[...,2] = cv.normalize(mag,None,0,255,cv.NORM_MINMAX)\n",
    "            bgr = cv.cvtColor(hsv,cv.COLOR_HSV2BGR)\n",
    "            cv.imshow('frame2',bgr)\n",
    "            k = cv.waitKey(30) & 0xff\n",
    "            if k == 27:\n",
    "                break\n",
    "            elif k == ord('s'):\n",
    "                cv.imwrite('opticalfb.png',frame2)\n",
    "                cv.imwrite('opticalhsv.png',bgr)\n",
    "            prvs = next\n",
    "        cap.release()\n",
    "        cv.destroyAllWindows()\n",
    "        self.frame_store = frame_store\n",
    "    \n",
    "    def plotObject(self):\n",
    "        frame_store = self.frame_store\n",
    "        fps = self.fps\n",
    "        fname = self.fname\n",
    "        \n",
    "        x_avg = []\n",
    "        for i in range(len(frame_store)):\n",
    "            x_avg.append(np.argmax(frame_store[i].mean(axis=0)))\n",
    "\n",
    "        t = np.linspace(0, len(frame_store)/fps, len(frame_store))\n",
    "        x_avg = np.array(x_avg) * 1e-2\n",
    "        grad_px = np.array([331.79, 336.16, 305.22, 334.69, 326,80]).mean() * 1e-2\n",
    "        grad_cm = np.array([11.70, 11.86, 10.77, 11.81, 11.53]).mean() * 1e-2\n",
    "        s_img = x_avg * grad_cm / grad_px\n",
    "\n",
    "        dt = t[1] - t[0]\n",
    "        v_avg = np.zeros_like(s_img)\n",
    "        for i in range(1, len(s_img)):\n",
    "            v_avg[1:] = np.diff(s_img)/dt\n",
    "\n",
    "        fig, (ax1, ax2) = mp.subplots(2, 1, sharex=True)\n",
    "\n",
    "        ax1.plot(t, s_img, \"bo\")\n",
    "        ax1.set_ylabel(\"Displacement, m\")\n",
    "        ax1.set_title(\"_\".join(fname.split(\"_\")[0:1]) + \" \" + \"_\".join(fname.split(\"_\")[1:]))\n",
    "        ax1.grid(True)\n",
    "        posname = fname + \"_pos.txt\"\n",
    "        np.savetxt(posname, np.array([t, s_img]))\n",
    "\n",
    "        ax2.plot(t, v_avg, \"go\")\n",
    "        ax2.set_xlabel(\"Time, s\")\n",
    "        ax2.set_ylabel(\"Velocity, m/s\")\n",
    "        ax2.grid(True)\n",
    "        velname = fname + \"_vel.txt\"\n",
    "        np.savetxt(velname, np.array([t, v_avg]))\n",
    "\n",
    "        sname = fname + \".png\"\n",
    "        mp.savefig(sname, bbox_inches=\"tight\", dpi=300)\n",
    "        mp.show()\n",
    "        \n",
    "    def run(self):\n",
    "        self.trackObject()\n",
    "        self.plotObject()"
   ]
  },
  {
   "cell_type": "code",
   "execution_count": 146,
   "metadata": {
    "ExecuteTime": {
     "end_time": "2019-10-10T03:46:39.026952Z",
     "start_time": "2019-10-10T03:45:48.243607Z"
    }
   },
   "outputs": [],
   "source": [
    "filenames = os.listdir()\n",
    "for f in filenames:\n",
    "    if f.endswith('.avi'):\n",
    "        fn = f[:-4] + '/'\n",
    "        vid = VideoToGraph(f)\n",
    "        vid.trackObject()\n",
    "        for i,v in enumerate(vid.frame_store):\n",
    "            cv.imwrite(fn + str(i) + '.png', v)"
   ]
  },
  {
   "cell_type": "code",
   "execution_count": 203,
   "metadata": {
    "ExecuteTime": {
     "end_time": "2019-10-10T04:32:31.168498Z",
     "start_time": "2019-10-10T04:32:30.921265Z"
    }
   },
   "outputs": [],
   "source": [
    "parent_dir = 'castor_28g'\n",
    "filenames = os.listdir('%s/'%parent_dir)\n",
    "x_coords = []\n",
    "for n, f in enumerate(filenames):\n",
    "    frame = cv.imread('%s/%s.png'%(parent_dir, str(n)), 0)\n",
    "    thresh, frame = cv.threshold(frame, 127, 255, cv.THRESH_OTSU)\n",
    "    labeled = meas.label(frame)\n",
    "    props = meas.regionprops(labeled)\n",
    "    x_coords.append(props[0]['centroid'][1])"
   ]
  },
  {
   "cell_type": "code",
   "execution_count": 204,
   "metadata": {
    "ExecuteTime": {
     "end_time": "2019-10-10T04:32:40.853094Z",
     "start_time": "2019-10-10T04:32:40.847093Z"
    }
   },
   "outputs": [],
   "source": [
    "fps = 15\n",
    "t = np.linspace(0, len(x_coords)/fps, len(x_coords))\n",
    "x_coords = np.array(x_coords) * 1e-2\n",
    "grad_px = np.array([331.79, 336.16, 305.22, 334.69, 326,80]).mean() * 1e-2\n",
    "grad_cm = np.array([11.70, 11.86, 10.77, 11.81, 11.53]).mean() * 1e-2\n",
    "s_img = x_coords * grad_cm / grad_px\n",
    "\n",
    "dt = t[1] - t[0]\n",
    "v_avg = np.zeros_like(s_img)\n",
    "v_avg[1:] = np.diff(s_img)/dt"
   ]
  },
  {
   "cell_type": "code",
   "execution_count": 222,
   "metadata": {
    "ExecuteTime": {
     "end_time": "2019-10-10T04:38:02.972587Z",
     "start_time": "2019-10-10T04:38:02.443503Z"
    }
   },
   "outputs": [
    {
     "data": {
      "image/png": "[encoded data removed]",
      "text/plain": [
       "<Figure size 800x450 with 2 Axes>"
      ]
     },
     "metadata": {},
     "output_type": "display_data"
    }
   ],
   "source": [
    "fig, ax = plt.subplots(2, 1, sharex=True, figsize=(16/2, 9/2))\n",
    "\n",
    "ax[0].plot(t, s_img, 'o')\n",
    "ax[0].set_ylabel('position, m')\n",
    "\n",
    "ax[1].plot(t, v_avg, 'o')\n",
    "ax[1].set_xlabel('time, s')\n",
    "ax[1].set_ylabel('velocity, m/s')\n",
    "\n",
    "plt.tight_layout()\n",
    "plt.show()"
   ]
  },
  {
   "cell_type": "code",
   "execution_count": null,
   "metadata": {},
   "outputs": [],
   "source": []
  }
 ],
 "metadata": {
  "kernelspec": {
   "display_name": "Python 3",
   "language": "python",
   "name": "python3"
  },
  "language_info": {
   "codemirror_mode": {
    "name": "ipython",
    "version": 3
   },
   "file_extension": ".py",
   "mimetype": "text/x-python",
   "name": "python",
   "nbconvert_exporter": "python",
   "pygments_lexer": "ipython3",
   "version": "3.6.9"
  },
  "latex_envs": {
   "LaTeX_envs_menu_present": true,
   "autoclose": true,
   "autocomplete": false,
   "bibliofile": "biblio.bib",
   "cite_by": "apalike",
   "current_citInitial": 1,
   "eqLabelWithNumbers": true,
   "eqNumInitial": 1,
   "hotkeys": {
    "equation": "Ctrl-E",
    "itemize": "Ctrl-I"
   },
   "labels_anchors": false,
   "latex_user_defs": false,
   "report_style_numbering": false,
   "user_envs_cfg": false
  },
  "varInspector": {
   "cols": {
    "lenName": 16,
    "lenType": 16,
    "lenVar": 40
   },
   "kernels_config": {
    "python": {
     "delete_cmd_postfix": "",
     "delete_cmd_prefix": "del ",
     "library": "var_list.py",
     "varRefreshCmd": "print(var_dic_list())"
    },
    "r": {
     "delete_cmd_postfix": ") ",
     "delete_cmd_prefix": "rm(",
     "library": "var_list.r",
     "varRefreshCmd": "cat(var_dic_list()) "
    }
   },
   "types_to_exclude": [
    "module",
    "function",
    "builtin_function_or_method",
    "instance",
    "_Feature"
   ],
   "window_display": false
  }
 },
 "nbformat": 4,
 "nbformat_minor": 2
}
