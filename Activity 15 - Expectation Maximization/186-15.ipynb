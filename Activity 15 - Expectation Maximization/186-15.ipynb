{
 "cells": [
  {
   "cell_type": "code",
   "execution_count": 1,
   "metadata": {
    "ExecuteTime": {
     "end_time": "2019-11-10T11:22:58.531049Z",
     "start_time": "2019-11-10T11:22:47.864213Z"
    }
   },
   "outputs": [],
   "source": [
    "import os, glob\n",
    "import numpy as np\n",
    "import numpy.linalg as la\n",
    "import numpy.random as rand\n",
    "import scipy.stats as stats\n",
    "import cv2 as cv\n",
    "from matplotlib import pyplot as plt\n",
    "from mpl_toolkits.mplot3d import Axes3D\n",
    "from sklearn import model_selection as slms, preprocessing as spre\n",
    "from skimage import measure as meas, feature as feat\n",
    "from tqdm import tnrange, tqdm_notebook as tqdm\n",
    "from jupyterthemes import jtplot"
   ]
  },
  {
   "cell_type": "code",
   "execution_count": 5,
   "metadata": {
    "ExecuteTime": {
     "end_time": "2019-11-10T11:23:00.218179Z",
     "start_time": "2019-11-10T11:23:00.211175Z"
    }
   },
   "outputs": [],
   "source": [
    "jtplot.reset()\n",
    "plt.style.use(\"bmh\")\n",
    "plt.rcParams[\"axes.axisbelow\"] = True\n",
    "plt.rcParams[\"text.usetex\"] = True\n",
    "plt.rcParams[\"font.family\"] = \"serif\"\n",
    "plt.rcParams[\"figure.figsize\"] = (5, 5)\n",
    "plt.rcParams[\"figure.dpi\"] = 100\n",
    "plt.rcParams[\"text.latex.preamble\"] = [r\"\\usepackage{physics}\"]"
   ]
  },
  {
   "cell_type": "code",
   "execution_count": 6,
   "metadata": {
    "ExecuteTime": {
     "end_time": "2019-11-10T11:23:00.392650Z",
     "start_time": "2019-11-10T11:23:00.389677Z"
    }
   },
   "outputs": [],
   "source": [
    "traindir = 'D:/Kenneth/Documents/VIP/Datasets/fruits-360/Training/'"
   ]
  },
  {
   "cell_type": "code",
   "execution_count": 7,
   "metadata": {
    "ExecuteTime": {
     "end_time": "2019-11-10T11:23:00.612853Z",
     "start_time": "2019-11-10T11:23:00.605851Z"
    }
   },
   "outputs": [],
   "source": [
    "ban_a, app_a, ora_a = np.load('astar-ban_app_ora.npy')\n",
    "ban_b, app_b, ora_b = np.load('bstar-ban_app_ora.npy')\n",
    "ban_e, app_e, ora_e = np.load('ecc-ban_app_ora.npy')\n",
    "\n",
    "ban_features = np.array([ban_a, ban_b, ban_e]).T\n",
    "app_features = np.array([app_a, app_b, app_e]).T\n",
    "ora_features = np.array([ora_a, ora_b, ora_e]).T"
   ]
  },
  {
   "cell_type": "code",
   "execution_count": 8,
   "metadata": {
    "ExecuteTime": {
     "end_time": "2019-11-10T11:23:05.452621Z",
     "start_time": "2019-11-10T11:23:00.809514Z"
    }
   },
   "outputs": [
    {
     "data": {
      "image/png": "[encoded data removed]",
      "text/plain": [
       "<Figure size 500x500 with 1 Axes>"
      ]
     },
     "metadata": {},
     "output_type": "display_data"
    }
   ],
   "source": [
    "plt.plot(ban_features.T[0], ban_features.T[1], 'yo', mec='k', mew=0.5)\n",
    "plt.plot(app_features.T[0], app_features.T[1], 'ro', mec='k', mew=0.5)\n",
    "plt.plot(ora_features.T[0], ora_features.T[1], 'o', color='orange', mec='k', mew=0.5)\n",
    "plt.legend(['banana', 'apple', 'orange'])\n",
    "plt.xlabel('$a^*$')\n",
    "plt.ylabel('$b^*$')\n",
    "# plt.savefig('ab-space.png', dpi=300, bbox_inches='tight')\n",
    "plt.show()"
   ]
  },
  {
   "cell_type": "code",
   "execution_count": 178,
   "metadata": {
    "ExecuteTime": {
     "end_time": "2019-11-10T14:58:05.583257Z",
     "start_time": "2019-11-10T14:58:05.564259Z"
    },
    "code_folding": []
   },
   "outputs": [],
   "source": [
    "class ExpectationMaximization:\n",
    "    def __init__(self, n_classes,\n",
    "                 dimensions,\n",
    "                 baseline=0.1):\n",
    "        self.n_classes = n_classes\n",
    "        self.dimensions = dimensions\n",
    "        self.baseline = baseline\n",
    "    \n",
    "    def _p(self, x, mu, sigma):\n",
    "        return 1/(2*np.pi)**(self.dimensions/2)/la.det(sigma)**(1/2) \\\n",
    "             * np.exp(-1/2 * (x - mu).T.dot(la.inv(sigma)).dot(x - mu))\n",
    "    \n",
    "    def _P(self, l, x):\n",
    "        num = self.P[l] * self._p(x, self.theta['mu'][l], self.theta['cov'][l])\n",
    "        den = 0.\n",
    "        for m in range(self.n_classes):\n",
    "            den += self.P[m] * self._p(x, self.theta['mu'][m], self.theta['cov'][l])\n",
    "        return num/den\n",
    "    \n",
    "    def train(self, X, cluster_means, epochs=int(1e6)):\n",
    "        self.graph_loss = []\n",
    "        self.epochs = epochs\n",
    "        N = len(X)\n",
    "        ll_old = 0.\n",
    "        self.theta = dict({'mu': cluster_means,\n",
    "                           'cov': np.array([np.identity(self.dimensions) \\\n",
    "                                            for _ in range(self.n_classes)])\n",
    "                          })\n",
    "        self.P = np.ones(self.n_classes) * 1/self.n_classes\n",
    "        for count in tnrange(epochs, desc='Epoch'):\n",
    "            exp_A = []\n",
    "            exp_B = []\n",
    "            ll_new = 0.\n",
    "            ws = np.zeros((self.n_classes, N))\n",
    "            \n",
    "            for l in range(self.n_classes):\n",
    "                for i, x in enumerate(X):\n",
    "                    ws[l,i] = self.P[l] * \\\n",
    "                              stats.multivariate_normal(self.theta['mu'][l],\n",
    "                                                        self.theta['cov'][l],\n",
    "                                                       ).pdf(x)\n",
    "            ws /= ws.sum(0)\n",
    "            \n",
    "            Pnew = np.zeros(self.n_classes)\n",
    "            for l in range(self.n_classes):\n",
    "                for i in range(N):\n",
    "                    Pnew[l] += ws[l,i]\n",
    "            Pnew /= N\n",
    "            \n",
    "            mu_new = np.zeros((self.n_classes, self.dimensions))\n",
    "            for l in range(self.n_classes):\n",
    "                for i in range(N):\n",
    "                    mu_new[l] += ws[l,i] * X[i]\n",
    "                mu_new[l] /= ws[l].sum()\n",
    "            \n",
    "            cov_new = np.zeros((self.n_classes, self.dimensions, self.dimensions))\n",
    "            for l in range(self.n_classes):\n",
    "                for i in range(N):\n",
    "                    ys = np.reshape(X[i] - mu_new[l], (2, 1))\n",
    "                    cov_new[l] += ws[l,i] * ys.dot(ys.T)\n",
    "                cov_new[l] /= ws[l].sum()\n",
    "            \n",
    "            ll_new = 0.\n",
    "            for i in range(N):\n",
    "                s = 0.\n",
    "                for l in range(self.n_classes):\n",
    "                    s += Pnew[l] * stats.multivariate_normal(self.theta['mu'][l],\n",
    "                                                             self.theta['cov'][l]\n",
    "                                                            ).pdf(X[i])\n",
    "                ll_new += np.log(s)\n",
    "            self.graph_loss.append(ll_new)\n",
    "            if abs(ll_new - ll_old) < self.baseline:\n",
    "                break\n",
    "            ll_old = ll_new\n",
    "            \n",
    "            self.P = Pnew\n",
    "            self.theta['mu'] = mu_new\n",
    "            self.theta['cov'] = cov_new"
   ]
  },
  {
   "cell_type": "code",
   "execution_count": 268,
   "metadata": {
    "ExecuteTime": {
     "end_time": "2019-11-10T15:36:12.038580Z",
     "start_time": "2019-11-10T15:36:05.908544Z"
    }
   },
   "outputs": [
    {
     "data": {
      "application/vnd.jupyter.widget-view+json": {
       "model_id": "b9f838c89f2a429ebccbb153489b1d3d",
       "version_major": 2,
       "version_minor": 0
      },
      "text/plain": [
       "HBox(children=(IntProgress(value=0, description='Epoch', max=1000000, style=ProgressStyle(description_width='i…"
      ]
     },
     "metadata": {},
     "output_type": "display_data"
    },
    {
     "name": "stdout",
     "output_type": "stream",
     "text": [
      "\n"
     ]
    }
   ],
   "source": [
    "astars = np.concatenate((ban_a, app_a, ora_a))\n",
    "bstars = np.concatenate((ban_b, app_b, ora_b))\n",
    "X = np.column_stack((astars, bstars))\n",
    "cluster_means = np.array([[np.mean(ban_a), np.mean(ban_b)],\n",
    "                          [np.mean(app_a), np.mean(app_b)],\n",
    "                          [np.mean(ora_a), np.mean(ora_b)]\n",
    "                         ])\n",
    "em = ExpectationMaximization(3, 2, baseline=1e-4)\n",
    "em.train(X, cluster_means)"
   ]
  },
  {
   "cell_type": "code",
   "execution_count": 297,
   "metadata": {
    "ExecuteTime": {
     "end_time": "2019-11-10T15:41:31.380949Z",
     "start_time": "2019-11-10T15:41:28.629544Z"
    }
   },
   "outputs": [
    {
     "data": {
      "image/png": "[encoded data removed]",
      "text/plain": [
       "<Figure size 575x500 with 2 Axes>"
      ]
     },
     "metadata": {},
     "output_type": "display_data"
    }
   ],
   "source": [
    "xs = np.linspace(astars.min()-5e-3, astars.max()+5e-3, 500)\n",
    "ys = np.linspace(bstars.min()-5e-3, bstars.max()+5e-3, 500)\n",
    "X, Y = np.meshgrid(xs, ys)\n",
    "zs = np.vstack([X.ravel(), Y.ravel()]).T\n",
    "Z = np.zeros(len(zs))\n",
    "for p, m, s in zip(em.P, em.theta['mu'], em.theta['cov']):\n",
    "    Z += p*stats.multivariate_normal(m, s).pdf(zs)\n",
    "Z = Z.reshape(X.shape)\n",
    "Z /= Z.size\n",
    "\n",
    "plt.figure(figsize=(5*1.15, 5))\n",
    "plt.plot(ban_features.T[0], ban_features.T[1], 'y.', mec='k', mew=0.25, alpha=0.5)\n",
    "plt.plot(app_features.T[0], app_features.T[1], 'r.', mec='k', mew=0.25, alpha=0.5)\n",
    "plt.plot(ora_features.T[0], ora_features.T[1], '.', color='orange', mec='k', mew=0.25, alpha=0.5)\n",
    "plt.legend(['banana', 'apple', 'orange'])\n",
    "plt.xlabel('$a^*$')\n",
    "plt.ylabel('$b^*$')\n",
    "plt.contourf(X, Y, Z, cmap='gnuplot', levels=25)\n",
    "plt.colorbar()\n",
    "\n",
    "# plt.savefig('em_feature_space.png', dpi=300, bbox_inches='tight')\n",
    "plt.show()"
   ]
  },
  {
   "cell_type": "code",
   "execution_count": null,
   "metadata": {},
   "outputs": [],
   "source": []
  }
 ],
 "metadata": {
  "kernelspec": {
   "display_name": "Python 3",
   "language": "python",
   "name": "python3"
  },
  "language_info": {
   "codemirror_mode": {
    "name": "ipython",
    "version": 3
   },
   "file_extension": ".py",
   "mimetype": "text/x-python",
   "name": "python",
   "nbconvert_exporter": "python",
   "pygments_lexer": "ipython3",
   "version": "3.6.9"
  },
  "latex_envs": {
   "LaTeX_envs_menu_present": true,
   "autoclose": true,
   "autocomplete": false,
   "bibliofile": "biblio.bib",
   "cite_by": "apalike",
   "current_citInitial": 1,
   "eqLabelWithNumbers": true,
   "eqNumInitial": 1,
   "hotkeys": {
    "equation": "Ctrl-E",
    "itemize": "Ctrl-I"
   },
   "labels_anchors": false,
   "latex_user_defs": false,
   "report_style_numbering": false,
   "user_envs_cfg": false
  },
  "varInspector": {
   "cols": {
    "lenName": 16,
    "lenType": 16,
    "lenVar": 40
   },
   "kernels_config": {
    "python": {
     "delete_cmd_postfix": "",
     "delete_cmd_prefix": "del ",
     "library": "var_list.py",
     "varRefreshCmd": "print(var_dic_list())"
    },
    "r": {
     "delete_cmd_postfix": ") ",
     "delete_cmd_prefix": "rm(",
     "library": "var_list.r",
     "varRefreshCmd": "cat(var_dic_list()) "
    }
   },
   "types_to_exclude": [
    "module",
    "function",
    "builtin_function_or_method",
    "instance",
    "_Feature"
   ],
   "window_display": false
  }
 },
 "nbformat": 4,
 "nbformat_minor": 2
}
