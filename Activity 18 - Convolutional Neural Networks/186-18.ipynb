{
 "cells": [
  {
   "cell_type": "code",
   "execution_count": 2,
   "metadata": {
    "ExecuteTime": {
     "end_time": "2019-11-29T10:11:05.110885Z",
     "start_time": "2019-11-29T10:10:55.753007Z"
    },
    "scrolled": true
   },
   "outputs": [
    {
     "name": "stderr",
     "output_type": "stream",
     "text": [
      "D:\\ProgramData\\Anaconda3\\envs\\compsense\\lib\\site-packages\\tensorflow\\python\\framework\\dtypes.py:516: FutureWarning: Passing (type, 1) or '1type' as a synonym of type is deprecated; in a future version of numpy, it will be understood as (type, (1,)) / '(1,)type'.\n",
      "  _np_qint8 = np.dtype([(\"qint8\", np.int8, 1)])\n",
      "D:\\ProgramData\\Anaconda3\\envs\\compsense\\lib\\site-packages\\tensorflow\\python\\framework\\dtypes.py:517: FutureWarning: Passing (type, 1) or '1type' as a synonym of type is deprecated; in a future version of numpy, it will be understood as (type, (1,)) / '(1,)type'.\n",
      "  _np_quint8 = np.dtype([(\"quint8\", np.uint8, 1)])\n",
      "D:\\ProgramData\\Anaconda3\\envs\\compsense\\lib\\site-packages\\tensorflow\\python\\framework\\dtypes.py:518: FutureWarning: Passing (type, 1) or '1type' as a synonym of type is deprecated; in a future version of numpy, it will be understood as (type, (1,)) / '(1,)type'.\n",
      "  _np_qint16 = np.dtype([(\"qint16\", np.int16, 1)])\n",
      "D:\\ProgramData\\Anaconda3\\envs\\compsense\\lib\\site-packages\\tensorflow\\python\\framework\\dtypes.py:519: FutureWarning: Passing (type, 1) or '1type' as a synonym of type is deprecated; in a future version of numpy, it will be understood as (type, (1,)) / '(1,)type'.\n",
      "  _np_quint16 = np.dtype([(\"quint16\", np.uint16, 1)])\n",
      "D:\\ProgramData\\Anaconda3\\envs\\compsense\\lib\\site-packages\\tensorflow\\python\\framework\\dtypes.py:520: FutureWarning: Passing (type, 1) or '1type' as a synonym of type is deprecated; in a future version of numpy, it will be understood as (type, (1,)) / '(1,)type'.\n",
      "  _np_qint32 = np.dtype([(\"qint32\", np.int32, 1)])\n",
      "D:\\ProgramData\\Anaconda3\\envs\\compsense\\lib\\site-packages\\tensorflow\\python\\framework\\dtypes.py:525: FutureWarning: Passing (type, 1) or '1type' as a synonym of type is deprecated; in a future version of numpy, it will be understood as (type, (1,)) / '(1,)type'.\n",
      "  np_resource = np.dtype([(\"resource\", np.ubyte, 1)])\n",
      "D:\\ProgramData\\Anaconda3\\envs\\compsense\\lib\\site-packages\\tensorboard\\compat\\tensorflow_stub\\dtypes.py:541: FutureWarning: Passing (type, 1) or '1type' as a synonym of type is deprecated; in a future version of numpy, it will be understood as (type, (1,)) / '(1,)type'.\n",
      "  _np_qint8 = np.dtype([(\"qint8\", np.int8, 1)])\n",
      "D:\\ProgramData\\Anaconda3\\envs\\compsense\\lib\\site-packages\\tensorboard\\compat\\tensorflow_stub\\dtypes.py:542: FutureWarning: Passing (type, 1) or '1type' as a synonym of type is deprecated; in a future version of numpy, it will be understood as (type, (1,)) / '(1,)type'.\n",
      "  _np_quint8 = np.dtype([(\"quint8\", np.uint8, 1)])\n",
      "D:\\ProgramData\\Anaconda3\\envs\\compsense\\lib\\site-packages\\tensorboard\\compat\\tensorflow_stub\\dtypes.py:543: FutureWarning: Passing (type, 1) or '1type' as a synonym of type is deprecated; in a future version of numpy, it will be understood as (type, (1,)) / '(1,)type'.\n",
      "  _np_qint16 = np.dtype([(\"qint16\", np.int16, 1)])\n",
      "D:\\ProgramData\\Anaconda3\\envs\\compsense\\lib\\site-packages\\tensorboard\\compat\\tensorflow_stub\\dtypes.py:544: FutureWarning: Passing (type, 1) or '1type' as a synonym of type is deprecated; in a future version of numpy, it will be understood as (type, (1,)) / '(1,)type'.\n",
      "  _np_quint16 = np.dtype([(\"quint16\", np.uint16, 1)])\n",
      "D:\\ProgramData\\Anaconda3\\envs\\compsense\\lib\\site-packages\\tensorboard\\compat\\tensorflow_stub\\dtypes.py:545: FutureWarning: Passing (type, 1) or '1type' as a synonym of type is deprecated; in a future version of numpy, it will be understood as (type, (1,)) / '(1,)type'.\n",
      "  _np_qint32 = np.dtype([(\"qint32\", np.int32, 1)])\n",
      "D:\\ProgramData\\Anaconda3\\envs\\compsense\\lib\\site-packages\\tensorboard\\compat\\tensorflow_stub\\dtypes.py:550: FutureWarning: Passing (type, 1) or '1type' as a synonym of type is deprecated; in a future version of numpy, it will be understood as (type, (1,)) / '(1,)type'.\n",
      "  np_resource = np.dtype([(\"resource\", np.ubyte, 1)])\n",
      "Using TensorFlow backend.\n"
     ]
    }
   ],
   "source": [
    "import os, glob\n",
    "# os.environ['CUDA_VISIBLE_DEVICES'] = '-1'\n",
    "os.environ['TF_CPP_MIN_LOG_LEVEL'] = '2'\n",
    "import tensorflow as tf\n",
    "tf.compat.v1.logging.set_verbosity(tf.compat.v1.logging.ERROR)\n",
    "import numpy as np\n",
    "import numpy.random as rand\n",
    "import cv2 as cv\n",
    "import warnings as warn\n",
    "import pandas as pd\n",
    "import datetime\n",
    "import skimage.measure as meas\n",
    "from keras import backend as K, preprocessing, \\\n",
    "                  models, layers, optimizers, \\\n",
    "                  utils, callbacks, initializers, \\\n",
    "                  activations, regularizers, applications, \\\n",
    "                  constraints, engine\n",
    "from numpy import linalg as la, random as rand\n",
    "from matplotlib import pyplot as plt\n",
    "from mpl_toolkits.mplot3d import Axes3D\n",
    "from sklearn import model_selection\n",
    "from sklearn import preprocessing as spre\n",
    "from tqdm import tnrange, tqdm_notebook as tqdm\n",
    "from keras_tqdm import TQDMNotebookCallback as ktqdm\n",
    "from jupyterthemes import jtplot"
   ]
  },
  {
   "cell_type": "code",
   "execution_count": 4,
   "metadata": {
    "ExecuteTime": {
     "end_time": "2019-11-29T10:13:03.460284Z",
     "start_time": "2019-11-29T10:13:03.452283Z"
    }
   },
   "outputs": [],
   "source": [
    "jtplot.reset()\n",
    "plt.style.use(\"bmh\")\n",
    "plt.rcParams[\"axes.axisbelow\"] = True\n",
    "plt.rcParams[\"text.usetex\"] = True\n",
    "plt.rcParams[\"font.family\"] = \"serif\"\n",
    "plt.rcParams[\"figure.figsize\"] = (5, 5)\n",
    "plt.rcParams[\"figure.dpi\"] = 100\n",
    "plt.rcParams[\"text.latex.preamble\"] = [r\"\\usepackage{physics}\"]"
   ]
  },
  {
   "cell_type": "code",
   "execution_count": 5,
   "metadata": {
    "ExecuteTime": {
     "end_time": "2019-11-29T10:13:04.089764Z",
     "start_time": "2019-11-29T10:13:04.054746Z"
    },
    "code_folding": [
     0,
     27
    ]
   },
   "outputs": [],
   "source": [
    "class StopOnValue(callbacks.Callback):\n",
    "    def __init__(self, \n",
    "                 monitor='val_loss', \n",
    "                 value=0.00001, \n",
    "                 mode='min',\n",
    "                 verbose=0):\n",
    "        super(callbacks.Callback, self).__init__()\n",
    "        self.monitor = monitor\n",
    "        self.value = value\n",
    "        self.verbose = verbose\n",
    "        self.mode = mode\n",
    "        if self.mode == 'min':\n",
    "            self.compare_op = np.less\n",
    "        elif self.mode == 'max':\n",
    "            self.compare_op = np.greater\n",
    "    \n",
    "    def on_epoch_end(self, epoch, logs={}):\n",
    "        current = logs.get(self.monitor)\n",
    "        if current is None:\n",
    "            warnings.warn('Early stopping requires %s available!' % self.monitor, RuntimeWarning)\n",
    "            \n",
    "        if self.compare_op(current, self.value):\n",
    "            if self.verbose > 0:\n",
    "                print('Epoch %05d: early stopping THR' % epoch)\n",
    "            self.model.stop_training = True\n",
    "            \n",
    "            \n",
    "class AdaBound(optimizers.Optimizer):\n",
    "    def __init__(self,\n",
    "                 lr=0.001,\n",
    "                 final_lr=0.1,\n",
    "                 beta_1=0.9,\n",
    "                 beta_2=0.999,\n",
    "                 gamma=1e-3,\n",
    "                 epsilon=None,\n",
    "                 decay=0.,\n",
    "                 amsbound=False,\n",
    "                 weight_decay=0.,\n",
    "                 **kwargs):\n",
    "        \"\"\"\n",
    "        Keras port [1] of AdaBound Optimizer for PyTorch [2], from the paper \n",
    "        Adaptive Gradient Methods with Dynamic Bound of Learning Rate [3].\n",
    "        \n",
    "        AdaBound optimizer.\n",
    "        \n",
    "        Default parameters follow those provided in the original paper.\n",
    "        # Arguments\n",
    "            lr: float >= 0. Learning rate.\n",
    "            final_lr: float >= 0. Final learning rate.\n",
    "            beta_1: float, 0 < beta < 1. Generally close to 1.\n",
    "            beta_2: float, 0 < beta < 1. Generally close to 1.\n",
    "            gamma: float >= 0. Convergence speed of the bound function.\n",
    "            epsilon: float >= 0. Fuzz factor. If `None`, defaults to `K.epsilon()`.\n",
    "            decay: float >= 0. Learning rate decay over each update.\n",
    "            weight_decay: Weight decay weight.\n",
    "            amsbound: boolean. Whether to apply the AMSBound variant of this\n",
    "                algorithm.\n",
    "        \n",
    "        [1] Majumdar, S. keras-adabound, 2019. https://github.com/titu1994/keras-adabound.\n",
    "        [2] Luo, L. AdaBound, 2019. https://github.com/Luolc/AdaBound.\n",
    "        [3] Luo, L., Yuanhao, X., Yan, L., and Xu, S. Adaptive gradient methods with dynamic\n",
    "            bound of learning rate. International Conference on LEarning Representations, 2019.\n",
    "            https://openreview.net/forum?id=Bkg3g2R9FX.\n",
    "        \"\"\"\n",
    "        super(AdaBound, self).__init__(**kwargs)\n",
    "        \n",
    "        if not 0. < gamma <= 1.:\n",
    "            raise ValueError('Invalid `gamma` parameter. Must lie in [0, 1] range.')\n",
    "            \n",
    "        with K.name_scope(self.__class__.__name__):\n",
    "            self.iterations = K.variable(0, dtype='int64', name='iterations')\n",
    "            self.lr = K.variable(lr, name='lr')\n",
    "            self.beta_1 = K.variable(beta_1, name='beta_1')\n",
    "            self.beta_2 = K.variable(beta_2, name='beta_2')\n",
    "            self.decay = K.variable(decay, name='decay')\n",
    "            \n",
    "        self.final_lr = final_lr\n",
    "        self.gamma = gamma\n",
    "        \n",
    "        if epsilon is None:\n",
    "            epsilon = K.epsilon()\n",
    "        self.epsilon = epsilon\n",
    "        self.initial_decay = decay\n",
    "        self.amsbound = amsbound\n",
    "\n",
    "        self.weight_decay = float(weight_decay)\n",
    "        self.base_lr = float(lr)\n",
    "        \n",
    "        \n",
    "    def get_updates(self, loss, params):\n",
    "        grads = self.get_gradients(loss, params)\n",
    "        self.updates = [K.update_add(self.iterations, 1)]\n",
    "\n",
    "        lr = self.lr\n",
    "        if self.initial_decay > 0:\n",
    "            lr = lr * (1. / (1. + self.decay * K.cast(self.iterations,\n",
    "                                                      K.dtype(self.decay))))\n",
    "\n",
    "        t = K.cast(self.iterations, K.floatx()) + 1\n",
    "\n",
    "        # Applies bounds on actual learning rate\n",
    "        step_size = lr * (K.sqrt(1. - K.pow(self.beta_2, t)) /\n",
    "                          (1. - K.pow(self.beta_1, t)))\n",
    "\n",
    "        final_lr = self.final_lr * lr / self.base_lr\n",
    "        lower_bound = final_lr * (1. - 1. / (self.gamma * t + 1.))\n",
    "        upper_bound = final_lr * (1. + 1. / (self.gamma * t))\n",
    "\n",
    "        ms = [K.zeros(K.int_shape(p), dtype=K.dtype(p)) for p in params]\n",
    "        vs = [K.zeros(K.int_shape(p), dtype=K.dtype(p)) for p in params]\n",
    "        if self.amsbound:\n",
    "            vhats = [K.zeros(K.int_shape(p), dtype=K.dtype(p)) for p in params]\n",
    "        else:\n",
    "            vhats = [K.zeros(1) for _ in params]\n",
    "        self.weights = [self.iterations] + ms + vs + vhats\n",
    "\n",
    "        for p, g, m, v, vhat in zip(params, grads, ms, vs, vhats):\n",
    "            # apply weight decay\n",
    "            if self.weight_decay != 0.:\n",
    "                g += self.weight_decay * K.stop_gradient(p)\n",
    "\n",
    "            m_t = (self.beta_1 * m) + (1. - self.beta_1) * g\n",
    "            v_t = (self.beta_2 * v) + (1. - self.beta_2) * K.square(g)\n",
    "\n",
    "            if self.amsbound:\n",
    "                vhat_t = K.maximum(vhat, v_t)\n",
    "                denom = (K.sqrt(vhat_t) + self.epsilon)\n",
    "                self.updates.append(K.update(vhat, vhat_t))\n",
    "            else:\n",
    "                denom = (K.sqrt(v_t) + self.epsilon)\n",
    "\n",
    "            # Compute the bounds\n",
    "            step_size_p = step_size * K.ones_like(denom)\n",
    "            step_size_p_bound = step_size_p / denom\n",
    "            bounded_lr_t = m_t * K.minimum(K.maximum(step_size_p_bound,\n",
    "                                                     lower_bound), upper_bound)\n",
    "\n",
    "            p_t = p - bounded_lr_t\n",
    "\n",
    "            self.updates.append(K.update(m, m_t))\n",
    "            self.updates.append(K.update(v, v_t))\n",
    "            new_p = p_t\n",
    "\n",
    "            # Apply constraints.\n",
    "            if getattr(p, 'constraint', None) is not None:\n",
    "                new_p = p.constraint(new_p)\n",
    "\n",
    "            self.updates.append(K.update(p, new_p))\n",
    "        return self.updates\n",
    "    \n",
    "    \n",
    "    def get_config(self):\n",
    "        config = {'lr': float(K.get_value(self.lr)),\n",
    "                  'final_lr': float(self.final_lr),\n",
    "                  'beta_1': float(K.get_value(self.beta_1)),\n",
    "                  'beta_2': float(K.get_value(self.beta_2)),\n",
    "                  'gamma': float(self.gamma),\n",
    "                  'decay': float(K.get_value(self.decay)),\n",
    "                  'epsilon': self.epsilon,\n",
    "                  'weight_decay': self.weight_decay,\n",
    "                  'amsbound': self.amsbound}\n",
    "        base_config = super(AdaBound, self).get_config()\n",
    "        return dict(list(base_config.items()) + list(config.items()))\n",
    "    \n",
    "\n",
    "def l2loss(y_true, y_pred):\n",
    "    if y_true.shape != y_pred.shape:\n",
    "        y_true = tf.image.resize(y_true, tf.shape(y_pred)[1:3])\n",
    "    return tf.nn.l2_loss(y_pred - y_true)\n",
    "\n",
    "def shannonEntropy2D(img, base=2):       \n",
    "    img_grad = np.asarray(np.gradient(img)).T\n",
    "    img_grad /= img_grad.max()\n",
    "    img_grad = np.uint8(img_grad * 255)\n",
    "    hist = np.squeeze(cv.calcHist([img_grad], [0, 1], None, [256, 256], [0, 256, 0, 256]))\n",
    "    hist /= img_grad.size\n",
    "    with warn.catch_warnings():\n",
    "        warn.simplefilter('ignore')\n",
    "        if base == 2:\n",
    "            log = np.log2\n",
    "        elif base == 10:\n",
    "            log = np.log10\n",
    "        elif base == 'e':\n",
    "            log = np.log\n",
    "        H = -1/2 * np.nansum(hist*log(hist))\n",
    "    return H"
   ]
  },
  {
   "cell_type": "code",
   "execution_count": 6,
   "metadata": {
    "ExecuteTime": {
     "end_time": "2019-11-29T10:13:04.767404Z",
     "start_time": "2019-11-29T10:13:04.764405Z"
    }
   },
   "outputs": [],
   "source": [
    "traindir = 'D:/Kenneth/Documents/VIP/Datasets/cat-and-dog/TRAIN/'\n",
    "testdir = 'D:/Kenneth/Documents/VIP/Datasets/cat-and-dog/TEST/'\n",
    "img_w, img_h, img_ch = 224, 224, 3"
   ]
  },
  {
   "cell_type": "code",
   "execution_count": 7,
   "metadata": {
    "ExecuteTime": {
     "end_time": "2019-11-29T10:13:05.117845Z",
     "start_time": "2019-11-29T10:13:05.095331Z"
    }
   },
   "outputs": [],
   "source": [
    "filenames = os.listdir(traindir)\n",
    "categories = []\n",
    "for f in filenames:\n",
    "    category = f.split('.')[0]\n",
    "    if category == 'dog':\n",
    "        categories.append(1)\n",
    "    else:\n",
    "        categories.append(0)\n",
    "        \n",
    "df = pd.DataFrame({'filename': filenames,\n",
    "                   'category': categories})\n",
    "df['category'] = df['category'].replace({0: 'cat', \n",
    "                                         1: 'dog'})"
   ]
  },
  {
   "cell_type": "code",
   "execution_count": 8,
   "metadata": {
    "ExecuteTime": {
     "end_time": "2019-11-29T10:13:05.433457Z",
     "start_time": "2019-11-29T10:13:05.423465Z"
    }
   },
   "outputs": [],
   "source": [
    "train_df, val_df = model_selection.train_test_split(df, test_size=0.2, random_state=401)\n",
    "train_df = train_df.reset_index(drop=True)\n",
    "val_df = val_df.reset_index(drop=True)\n",
    "\n",
    "total_train = train_df.shape[0]\n",
    "total_val = val_df.shape[0]\n",
    "batch_size = 256\n",
    "epochs = int(1e6)"
   ]
  },
  {
   "cell_type": "code",
   "execution_count": 9,
   "metadata": {
    "ExecuteTime": {
     "end_time": "2019-11-29T10:13:06.961736Z",
     "start_time": "2019-11-29T10:13:05.887717Z"
    }
   },
   "outputs": [
    {
     "name": "stdout",
     "output_type": "stream",
     "text": [
      "Found 6404 validated image filenames belonging to 2 classes.\n"
     ]
    }
   ],
   "source": [
    "train_datagen = preprocessing.image.ImageDataGenerator(rescale=1/255,\n",
    "                                                       rotation_range=15,\n",
    "                                                       shear_range=0.1,\n",
    "                                                       zoom_range=0.2,\n",
    "                                                       horizontal_flip=True,\n",
    "                                                       width_shift_range=0.1,\n",
    "                                                       height_shift_range=0.1)\n",
    "train_gen = train_datagen.flow_from_dataframe(train_df,\n",
    "                                              traindir,\n",
    "                                              x_col='filename',\n",
    "                                              y_col='category',\n",
    "                                              target_size=(img_w, img_h),\n",
    "                                              batch_size=batch_size,\n",
    "                                              class_mode='categorical')"
   ]
  },
  {
   "cell_type": "code",
   "execution_count": 12,
   "metadata": {
    "ExecuteTime": {
     "end_time": "2019-11-29T10:13:45.096843Z",
     "start_time": "2019-11-29T10:13:44.826843Z"
    }
   },
   "outputs": [
    {
     "name": "stdout",
     "output_type": "stream",
     "text": [
      "Found 1601 validated image filenames belonging to 2 classes.\n"
     ]
    }
   ],
   "source": [
    "val_datagen = preprocessing.image.ImageDataGenerator(rescale=1/255)\n",
    "val_gen = val_datagen.flow_from_dataframe(val_df,\n",
    "                                          traindir,\n",
    "                                          x_col='filename',\n",
    "                                          y_col='category',\n",
    "                                          target_size=(img_w, img_h),\n",
    "                                          batch_size=batch_size,\n",
    "                                          class_mode='categorical')"
   ]
  },
  {
   "cell_type": "code",
   "execution_count": 26,
   "metadata": {
    "ExecuteTime": {
     "end_time": "2019-11-29T10:17:58.639398Z",
     "start_time": "2019-11-29T10:17:58.230122Z"
    }
   },
   "outputs": [
    {
     "name": "stdout",
     "output_type": "stream",
     "text": [
      "_________________________________________________________________\n",
      "Layer (type)                 Output Shape              Param #   \n",
      "=================================================================\n",
      "conv1 (Conv2D)               (None, 56, 56, 96)        34944     \n",
      "_________________________________________________________________\n",
      "norm1 (BatchNormalization)   (None, 56, 56, 96)        384       \n",
      "_________________________________________________________________\n",
      "pool1 (MaxPooling2D)         (None, 27, 27, 96)        0         \n",
      "_________________________________________________________________\n",
      "conv2 (Conv2D)               (None, 27, 27, 256)       614656    \n",
      "_________________________________________________________________\n",
      "norm2 (BatchNormalization)   (None, 27, 27, 256)       1024      \n",
      "_________________________________________________________________\n",
      "pool2 (MaxPooling2D)         (None, 13, 13, 256)       0         \n",
      "_________________________________________________________________\n",
      "conv3 (Conv2D)               (None, 13, 13, 384)       885120    \n",
      "_________________________________________________________________\n",
      "conv4 (Conv2D)               (None, 13, 13, 384)       1327488   \n",
      "_________________________________________________________________\n",
      "conv5 (Conv2D)               (None, 13, 13, 256)       884992    \n",
      "_________________________________________________________________\n",
      "norm3 (BatchNormalization)   (None, 13, 13, 256)       1024      \n",
      "_________________________________________________________________\n",
      "pool3 (MaxPooling2D)         (None, 6, 6, 256)         0         \n",
      "_________________________________________________________________\n",
      "flatten (Flatten)            (None, 9216)              0         \n",
      "_________________________________________________________________\n",
      "fc1 (Dense)                  (None, 4096)              37752832  \n",
      "_________________________________________________________________\n",
      "dropout1 (Dropout)           (None, 4096)              0         \n",
      "_________________________________________________________________\n",
      "fc2 (Dense)                  (None, 4096)              16781312  \n",
      "_________________________________________________________________\n",
      "dropout2 (Dropout)           (None, 4096)              0         \n",
      "_________________________________________________________________\n",
      "fc3 (Dense)                  (None, 2)                 8194      \n",
      "=================================================================\n",
      "Total params: 58,291,970\n",
      "Trainable params: 58,290,754\n",
      "Non-trainable params: 1,216\n",
      "_________________________________________________________________\n"
     ]
    }
   ],
   "source": [
    "model = models.Sequential()\n",
    "\n",
    "model.add(layers.Conv2D(input_shape=(img_w, img_h, img_ch),\n",
    "                        filters=96,\n",
    "                        kernel_size=11,\n",
    "                        strides=4,\n",
    "                        activation='relu',\n",
    "                        kernel_initializer=initializers.RandomNormal(mean=0, stddev=0.01),\n",
    "                        use_bias=True,\n",
    "                        bias_initializer='zeros',\n",
    "                        padding='same',\n",
    "                        name='conv1'))\n",
    "model.add(layers.BatchNormalization(name='norm1'))\n",
    "model.add(layers.MaxPooling2D(pool_size=3,\n",
    "                              strides=2,\n",
    "                              name='pool1'))\n",
    "\n",
    "model.add(layers.Conv2D(filters=256,\n",
    "                        kernel_size=5,\n",
    "                        padding='same',\n",
    "                        activation='relu',\n",
    "                        kernel_initializer=initializers.RandomNormal(mean=0, stddev=0.01),\n",
    "                        use_bias=True,\n",
    "                        bias_initializer='ones',\n",
    "                        name='conv2'))\n",
    "model.add(layers.BatchNormalization(name='norm2'))\n",
    "model.add(layers.MaxPooling2D(pool_size=3,\n",
    "                              strides=2,\n",
    "                              name='pool2'))\n",
    "\n",
    "model.add(layers.Conv2D(filters=384,\n",
    "                        kernel_size=3,\n",
    "                        padding='same',\n",
    "                        activation='relu',\n",
    "                        kernel_initializer=initializers.RandomNormal(mean=0, stddev=0.01),\n",
    "                        use_bias=True,\n",
    "                        bias_initializer='zeros',\n",
    "                        name='conv3'))\n",
    "model.add(layers.Conv2D(filters=384,\n",
    "                        kernel_size=3,\n",
    "                        padding='same',\n",
    "                        activation='relu',\n",
    "                        kernel_initializer=initializers.RandomNormal(mean=0, stddev=0.01),\n",
    "                        use_bias=True,\n",
    "                        bias_initializer='ones',\n",
    "                        name='conv4'))\n",
    "model.add(layers.Conv2D(filters=256,\n",
    "                        kernel_size=3,\n",
    "                        padding='same',\n",
    "                        activation='relu',\n",
    "                        kernel_initializer=initializers.RandomNormal(mean=0, stddev=0.01),\n",
    "                        use_bias=True,\n",
    "                        bias_initializer='ones',\n",
    "                        name='conv5'))\n",
    "model.add(layers.BatchNormalization(name='norm3'))\n",
    "model.add(layers.MaxPooling2D(pool_size=3,\n",
    "                              strides=2,\n",
    "                              name='pool3'))\n",
    "\n",
    "model.add(layers.Flatten(name='flatten'))\n",
    "model.add(layers.Dense(units=4096,\n",
    "                       activation='relu',\n",
    "                       kernel_initializer=initializers.RandomNormal(mean=0, stddev=0.01),\n",
    "                       use_bias=True,\n",
    "                       bias_initializer='zeros',\n",
    "                       name='fc1'))\n",
    "model.add(layers.Dropout(0.5,\n",
    "                         name='dropout1'))\n",
    "model.add(layers.Dense(units=4096,\n",
    "                       activation='relu',\n",
    "                       kernel_initializer=initializers.RandomNormal(mean=0, stddev=0.01),\n",
    "                       use_bias=True,\n",
    "                       bias_initializer='zeros',\n",
    "                       name='fc2'))\n",
    "model.add(layers.Dropout(0.5,\n",
    "                         name='dropout2'))\n",
    "model.add(layers.Dense(units=2,\n",
    "                       activation='softmax',\n",
    "                       kernel_initializer=initializers.RandomNormal(mean=0, stddev=0.01),\n",
    "                       use_bias=True,\n",
    "                       bias_initializer='zeros',\n",
    "                       name='fc3'))\n",
    "\n",
    "model.summary()"
   ]
  },
  {
   "cell_type": "code",
   "execution_count": 27,
   "metadata": {
    "ExecuteTime": {
     "end_time": "2019-11-29T10:18:00.312061Z",
     "start_time": "2019-11-29T10:18:00.292025Z"
    }
   },
   "outputs": [],
   "source": [
    "stopval = StopOnValue(monitor='val_loss',\n",
    "                      value=0.1,\n",
    "                      mode='min')\n",
    "lrred = callbacks.ReduceLROnPlateau(monitor='val_loss',\n",
    "                                    factor=1/10,\n",
    "                                    mode='min',\n",
    "                                    min_lr=1e-4)\n",
    "checkpoint = callbacks.ModelCheckpoint('catdog.model',\n",
    "                                       monitor='val_loss',\n",
    "                                       verbose=0,\n",
    "                                       save_best_only=True,\n",
    "                                       mode='min')\n",
    "# tblogdir = log_dir='./.tb_logs/%s/' \\\n",
    "#            %(datetime.datetime.now().strftime('%Y%m%d-%H%M%S'))\n",
    "# os.makedirs(tblogdir)\n",
    "# tblog = callbacks.TensorBoard(tblogdir,\n",
    "#                               histogram_freq=5,\n",
    "#                               batch_size=batch_size,\n",
    "#                               write_images=True,\n",
    "#                               embeddings_freq=0,\n",
    "#                               update_freq='epoch')\n",
    "csv = callbacks.CSVLogger('catdog.log', \n",
    "                          separator=',',\n",
    "                          append=True)\n",
    "sgd = optimizers.SGD(lr=0.01,\n",
    "                     momentum=0.9,\n",
    "                     decay=5e-4)"
   ]
  },
  {
   "cell_type": "code",
   "execution_count": 28,
   "metadata": {
    "ExecuteTime": {
     "end_time": "2019-11-29T10:18:02.872876Z",
     "start_time": "2019-11-29T10:18:02.843882Z"
    }
   },
   "outputs": [],
   "source": [
    "model.compile(loss='categorical_crossentropy',\n",
    "              optimizer=sgd,\n",
    "              metrics=['acc'])"
   ]
  },
  {
   "cell_type": "code",
   "execution_count": null,
   "metadata": {
    "ExecuteTime": {
     "end_time": "2019-11-29T10:08:06.693216Z",
     "start_time": "2019-11-29T06:38:26.935992Z"
    },
    "scrolled": true
   },
   "outputs": [],
   "source": [
    "history = model.fit_generator(train_gen,\n",
    "                              epochs=epochs,\n",
    "                              validation_data=val_gen,\n",
    "                              validation_steps=total_val//batch_size,\n",
    "                              steps_per_epoch=total_train//batch_size,\n",
    "                              callbacks=[ktqdm(leave_inner=False), stopval, lrred, checkpoint, csv],\n",
    "                              verbose=0)"
   ]
  },
  {
   "cell_type": "code",
   "execution_count": null,
   "metadata": {
    "ExecuteTime": {
     "end_time": "2019-11-29T10:10:43.480138Z",
     "start_time": "2019-11-29T10:10:43.324139Z"
    }
   },
   "outputs": [],
   "source": [
    "model.save('catdog.hdf5')"
   ]
  },
  {
   "cell_type": "code",
   "execution_count": null,
   "metadata": {
    "ExecuteTime": {
     "end_time": "2019-11-29T10:18:25.479724Z",
     "start_time": "2019-11-29T10:18:25.452723Z"
    }
   },
   "outputs": [],
   "source": [
    "model = models.load_model('catdog.hdf5', custom_objects={'sgd': sgd})"
   ]
  },
  {
   "cell_type": "code",
   "execution_count": 24,
   "metadata": {
    "ExecuteTime": {
     "end_time": "2019-11-29T10:09:01.756141Z",
     "start_time": "2019-11-29T10:09:01.746145Z"
    }
   },
   "outputs": [],
   "source": [
    "history = np.genfromtxt('catdog.log', delimiter=',', skip_header=1, unpack=True)\n",
    "keys = ['epoch', 'acc', 'loss', 'lr', 'val_acc', 'val_loss']\n",
    "history = dict(zip(keys, history))\n",
    "epochs = len(history['epoch'])"
   ]
  },
  {
   "cell_type": "code",
   "execution_count": 25,
   "metadata": {
    "ExecuteTime": {
     "end_time": "2019-11-29T10:09:22.289681Z",
     "start_time": "2019-11-29T10:09:21.764153Z"
    }
   },
   "outputs": [
    {
     "data": {
      "image/png": "[encoded data removed]",
      "text/plain": [
       "<Figure size 1000x500 with 2 Axes>"
      ]
     },
     "metadata": {},
     "output_type": "display_data"
    }
   ],
   "source": [
    "fig = plt.figure(figsize=(5*2, 5))\n",
    "\n",
    "ax = fig.add_subplot(121)\n",
    "ax.plot(range(epochs), history['loss'], lw=1, label='training')\n",
    "ax.plot(range(epochs), history['val_loss'], lw=1, label='validation')\n",
    "ax.set_xlabel('epochs')\n",
    "ax.set_ylabel('loss')\n",
    "ax.legend()\n",
    "\n",
    "ax = fig.add_subplot(122)\n",
    "ax.plot(range(epochs), history['acc'], lw=1, label='training')\n",
    "ax.plot(range(epochs), history['val_acc'], lw=1, label='validation')\n",
    "ax.set_xlabel('epochs')\n",
    "ax.set_ylabel('accuracy')\n",
    "ax.legend()\n",
    "\n",
    "plt.show()"
   ]
  },
  {
   "cell_type": "code",
   "execution_count": 24,
   "metadata": {
    "ExecuteTime": {
     "end_time": "2019-11-28T14:56:25.914716Z",
     "start_time": "2019-11-28T14:56:25.813519Z"
    }
   },
   "outputs": [],
   "source": [
    "test_filenames = os.listdir(testdir)\n",
    "test_df = pd.DataFrame({'filename': test_filenames})\n",
    "total_test = test_df.shape[0]\n",
    "\n",
    "y_test = []\n",
    "for f in test_filenames:\n",
    "    fn = f.split('.')[0]\n",
    "    y_test.append(0 if fn == 'cat' else 1)\n",
    "y_test = np.asarray(y_test)"
   ]
  },
  {
   "cell_type": "code",
   "execution_count": 25,
   "metadata": {
    "ExecuteTime": {
     "end_time": "2019-11-28T14:56:28.097218Z",
     "start_time": "2019-11-28T14:56:27.573218Z"
    }
   },
   "outputs": [
    {
     "name": "stdout",
     "output_type": "stream",
     "text": [
      "Found 2023 validated image filenames.\n"
     ]
    }
   ],
   "source": [
    "test_gen = preprocessing.image.ImageDataGenerator(rescale=1/255)\n",
    "test_datagen = test_gen.flow_from_dataframe(test_df,\n",
    "                                            testdir,\n",
    "                                            x_col='filename',\n",
    "                                            y_col=None,\n",
    "                                            class_mode=None,\n",
    "                                            target_size=(img_w, img_h),\n",
    "                                            batch_size=batch_size,\n",
    "                                            shuffle=False)"
   ]
  },
  {
   "cell_type": "code",
   "execution_count": 26,
   "metadata": {
    "ExecuteTime": {
     "end_time": "2019-11-28T14:58:22.835814Z",
     "start_time": "2019-11-28T14:58:01.098025Z"
    }
   },
   "outputs": [],
   "source": [
    "preds = model.predict_generator(test_datagen,\n",
    "                                steps=np.ceil(total_test/batch_size))\n",
    "test_df['category'] = np.argmax(preds, axis=-1)\n",
    "label_map = dict((v,k) for k,v in train_gen.class_indices.items())\n",
    "test_df['category'] = test_df['category'].replace(label_map)\n",
    "test_df['category'] = test_df['category'].replace({ 'dog': 1, 'cat': 0 })"
   ]
  },
  {
   "cell_type": "code",
   "execution_count": 27,
   "metadata": {
    "ExecuteTime": {
     "end_time": "2019-11-28T14:58:22.915815Z",
     "start_time": "2019-11-28T14:58:22.909814Z"
    }
   },
   "outputs": [
    {
     "name": "stdout",
     "output_type": "stream",
     "text": [
      "Test accuracy: 49.97528423133959 %\n"
     ]
    }
   ],
   "source": [
    "print('Test accuracy:',\n",
    "      len(np.squeeze(np.where(abs(test_df['category'].values - y_test) == 0)))/len(y_test) * 100, '%')"
   ]
  },
  {
   "cell_type": "code",
   "execution_count": null,
   "metadata": {},
   "outputs": [],
   "source": []
  }
 ],
 "metadata": {
  "kernelspec": {
   "display_name": "Python 3",
   "language": "python",
   "name": "python3"
  },
  "language_info": {
   "codemirror_mode": {
    "name": "ipython",
    "version": 3
   },
   "file_extension": ".py",
   "mimetype": "text/x-python",
   "name": "python",
   "nbconvert_exporter": "python",
   "pygments_lexer": "ipython3",
   "version": "3.6.9"
  },
  "latex_envs": {
   "LaTeX_envs_menu_present": true,
   "autoclose": true,
   "autocomplete": false,
   "bibliofile": "biblio.bib",
   "cite_by": "apalike",
   "current_citInitial": 1,
   "eqLabelWithNumbers": true,
   "eqNumInitial": 1,
   "hotkeys": {
    "equation": "Ctrl-E",
    "itemize": "Ctrl-I"
   },
   "labels_anchors": false,
   "latex_user_defs": false,
   "report_style_numbering": false,
   "user_envs_cfg": false
  },
  "varInspector": {
   "cols": {
    "lenName": 16,
    "lenType": 16,
    "lenVar": 40
   },
   "kernels_config": {
    "python": {
     "delete_cmd_postfix": "",
     "delete_cmd_prefix": "del ",
     "library": "var_list.py",
     "varRefreshCmd": "print(var_dic_list())"
    },
    "r": {
     "delete_cmd_postfix": ") ",
     "delete_cmd_prefix": "rm(",
     "library": "var_list.r",
     "varRefreshCmd": "cat(var_dic_list()) "
    }
   },
   "types_to_exclude": [
    "module",
    "function",
    "builtin_function_or_method",
    "instance",
    "_Feature"
   ],
   "window_display": false
  }
 },
 "nbformat": 4,
 "nbformat_minor": 2
}
