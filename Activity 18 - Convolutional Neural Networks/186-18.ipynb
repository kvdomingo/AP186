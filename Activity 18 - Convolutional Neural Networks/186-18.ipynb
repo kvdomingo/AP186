{
 "cells": [
  {
   "cell_type": "code",
   "execution_count": 1,
   "metadata": {
    "ExecuteTime": {
     "end_time": "2019-11-26T08:02:42.271786Z",
     "start_time": "2019-11-26T08:02:26.145661Z"
    }
   },
   "outputs": [
    {
     "name": "stderr",
     "output_type": "stream",
     "text": [
      "Using TensorFlow backend.\n"
     ]
    }
   ],
   "source": [
    "import os, glob\n",
    "os.environ['TF_CPP_MIN_LOG_LEVEL'] = '2'\n",
    "import tensorflow as tf\n",
    "tf.compat.v1.logging.set_verbosity(tf.compat.v1.logging.ERROR)\n",
    "import numpy as np\n",
    "import numpy.random as rand\n",
    "import cv2 as cv\n",
    "import warnings as warn\n",
    "import pandas as pd\n",
    "import skimage.measure as meas\n",
    "from keras import backend as K, preprocessing, \\\n",
    "                  models, layers, optimizers, \\\n",
    "                  utils, callbacks, initializers, \\\n",
    "                  activations, regularizers, applications, \\\n",
    "                  constraints, engine\n",
    "from numpy import linalg as la, random as rand\n",
    "from matplotlib import pyplot as plt\n",
    "from mpl_toolkits.mplot3d import Axes3D\n",
    "from sklearn import model_selection\n",
    "from sklearn import preprocessing as spre\n",
    "from tqdm import tnrange, tqdm_notebook as tqdm\n",
    "from keras_tqdm import TQDMNotebookCallback as ktqdm\n",
    "from jupyterthemes import jtplot"
   ]
  },
  {
   "cell_type": "code",
   "execution_count": 2,
   "metadata": {
    "ExecuteTime": {
     "end_time": "2019-11-26T08:02:42.321739Z",
     "start_time": "2019-11-26T08:02:42.312732Z"
    }
   },
   "outputs": [],
   "source": [
    "jtplot.reset()\n",
    "plt.style.use(\"bmh\")\n",
    "plt.rcParams[\"axes.axisbelow\"] = True\n",
    "plt.rcParams[\"text.usetex\"] = True\n",
    "plt.rcParams[\"font.family\"] = \"serif\"\n",
    "plt.rcParams[\"figure.figsize\"] = (5, 5)\n",
    "plt.rcParams[\"figure.dpi\"] = 100\n",
    "plt.rcParams[\"text.latex.preamble\"] = [r\"\\usepackage{physics}\"]"
   ]
  },
  {
   "cell_type": "code",
   "execution_count": 3,
   "metadata": {
    "ExecuteTime": {
     "end_time": "2019-11-26T08:02:42.402733Z",
     "start_time": "2019-11-26T08:02:42.361733Z"
    }
   },
   "outputs": [],
   "source": [
    "class StopOnValue(callbacks.Callback):\n",
    "    def __init__(self, \n",
    "                 monitor='val_loss', \n",
    "                 value=0.00001, \n",
    "                 mode='min',\n",
    "                 verbose=0):\n",
    "        super(callbacks.Callback, self).__init__()\n",
    "        self.monitor = monitor\n",
    "        self.value = value\n",
    "        self.verbose = verbose\n",
    "        self.mode = mode\n",
    "        if self.mode == 'min':\n",
    "            self.compare_op = np.less\n",
    "        elif self.mode == 'max':\n",
    "            self.compare_op = np.greater\n",
    "    \n",
    "    def on_epoch_end(self, epoch, logs={}):\n",
    "        current = logs.get(self.monitor)\n",
    "        if current is None:\n",
    "            warnings.warn('Early stopping requires %s available!' % self.monitor, RuntimeWarning)\n",
    "            \n",
    "        if self.compare_op(current, self.value):\n",
    "            if self.verbose > 0:\n",
    "                print('Epoch %05d: early stopping THR' % epoch)\n",
    "            self.model.stop_training = True\n",
    "            \n",
    "            \n",
    "class AdaBound(optimizers.Optimizer):\n",
    "    def __init__(self,\n",
    "                 lr=0.001,\n",
    "                 final_lr=0.1,\n",
    "                 beta_1=0.9,\n",
    "                 beta_2=0.999,\n",
    "                 gamma=1e-3,\n",
    "                 epsilon=None,\n",
    "                 decay=0.,\n",
    "                 amsbound=False,\n",
    "                 weight_decay=0.,\n",
    "                 **kwargs):\n",
    "        \"\"\"\n",
    "        Keras port [1] of AdaBound Optimizer for PyTorch [2], from the paper \n",
    "        Adaptive Gradient Methods with Dynamic Bound of Learning Rate [3].\n",
    "        \n",
    "        AdaBound optimizer.\n",
    "        \n",
    "        Default parameters follow those provided in the original paper.\n",
    "        # Arguments\n",
    "            lr: float >= 0. Learning rate.\n",
    "            final_lr: float >= 0. Final learning rate.\n",
    "            beta_1: float, 0 < beta < 1. Generally close to 1.\n",
    "            beta_2: float, 0 < beta < 1. Generally close to 1.\n",
    "            gamma: float >= 0. Convergence speed of the bound function.\n",
    "            epsilon: float >= 0. Fuzz factor. If `None`, defaults to `K.epsilon()`.\n",
    "            decay: float >= 0. Learning rate decay over each update.\n",
    "            weight_decay: Weight decay weight.\n",
    "            amsbound: boolean. Whether to apply the AMSBound variant of this\n",
    "                algorithm.\n",
    "        \n",
    "        [1] Majumdar, S. keras-adabound, 2019. https://github.com/titu1994/keras-adabound.\n",
    "        [2] Luo, L. AdaBound, 2019. https://github.com/Luolc/AdaBound.\n",
    "        [3] Luo, L., Yuanhao, X., Yan, L., and Xu, S. Adaptive gradient methods with dynamic\n",
    "            bound of learning rate. International Conference on LEarning Representations, 2019.\n",
    "            https://openreview.net/forum?id=Bkg3g2R9FX.\n",
    "        \"\"\"\n",
    "        super(AdaBound, self).__init__(**kwargs)\n",
    "        \n",
    "        if not 0. < gamma <= 1.:\n",
    "            raise ValueError('Invalid `gamma` parameter. Must lie in [0, 1] range.')\n",
    "            \n",
    "        with K.name_scope(self.__class__.__name__):\n",
    "            self.iterations = K.variable(0, dtype='int64', name='iterations')\n",
    "            self.lr = K.variable(lr, name='lr')\n",
    "            self.beta_1 = K.variable(beta_1, name='beta_1')\n",
    "            self.beta_2 = K.variable(beta_2, name='beta_2')\n",
    "            self.decay = K.variable(decay, name='decay')\n",
    "            \n",
    "        self.final_lr = final_lr\n",
    "        self.gamma = gamma\n",
    "        \n",
    "        if epsilon is None:\n",
    "            epsilon = K.epsilon()\n",
    "        self.epsilon = epsilon\n",
    "        self.initial_decay = decay\n",
    "        self.amsbound = amsbound\n",
    "\n",
    "        self.weight_decay = float(weight_decay)\n",
    "        self.base_lr = float(lr)\n",
    "        \n",
    "        \n",
    "    def get_updates(self, loss, params):\n",
    "        grads = self.get_gradients(loss, params)\n",
    "        self.updates = [K.update_add(self.iterations, 1)]\n",
    "\n",
    "        lr = self.lr\n",
    "        if self.initial_decay > 0:\n",
    "            lr = lr * (1. / (1. + self.decay * K.cast(self.iterations,\n",
    "                                                      K.dtype(self.decay))))\n",
    "\n",
    "        t = K.cast(self.iterations, K.floatx()) + 1\n",
    "\n",
    "        # Applies bounds on actual learning rate\n",
    "        step_size = lr * (K.sqrt(1. - K.pow(self.beta_2, t)) /\n",
    "                          (1. - K.pow(self.beta_1, t)))\n",
    "\n",
    "        final_lr = self.final_lr * lr / self.base_lr\n",
    "        lower_bound = final_lr * (1. - 1. / (self.gamma * t + 1.))\n",
    "        upper_bound = final_lr * (1. + 1. / (self.gamma * t))\n",
    "\n",
    "        ms = [K.zeros(K.int_shape(p), dtype=K.dtype(p)) for p in params]\n",
    "        vs = [K.zeros(K.int_shape(p), dtype=K.dtype(p)) for p in params]\n",
    "        if self.amsbound:\n",
    "            vhats = [K.zeros(K.int_shape(p), dtype=K.dtype(p)) for p in params]\n",
    "        else:\n",
    "            vhats = [K.zeros(1) for _ in params]\n",
    "        self.weights = [self.iterations] + ms + vs + vhats\n",
    "\n",
    "        for p, g, m, v, vhat in zip(params, grads, ms, vs, vhats):\n",
    "            # apply weight decay\n",
    "            if self.weight_decay != 0.:\n",
    "                g += self.weight_decay * K.stop_gradient(p)\n",
    "\n",
    "            m_t = (self.beta_1 * m) + (1. - self.beta_1) * g\n",
    "            v_t = (self.beta_2 * v) + (1. - self.beta_2) * K.square(g)\n",
    "\n",
    "            if self.amsbound:\n",
    "                vhat_t = K.maximum(vhat, v_t)\n",
    "                denom = (K.sqrt(vhat_t) + self.epsilon)\n",
    "                self.updates.append(K.update(vhat, vhat_t))\n",
    "            else:\n",
    "                denom = (K.sqrt(v_t) + self.epsilon)\n",
    "\n",
    "            # Compute the bounds\n",
    "            step_size_p = step_size * K.ones_like(denom)\n",
    "            step_size_p_bound = step_size_p / denom\n",
    "            bounded_lr_t = m_t * K.minimum(K.maximum(step_size_p_bound,\n",
    "                                                     lower_bound), upper_bound)\n",
    "\n",
    "            p_t = p - bounded_lr_t\n",
    "\n",
    "            self.updates.append(K.update(m, m_t))\n",
    "            self.updates.append(K.update(v, v_t))\n",
    "            new_p = p_t\n",
    "\n",
    "            # Apply constraints.\n",
    "            if getattr(p, 'constraint', None) is not None:\n",
    "                new_p = p.constraint(new_p)\n",
    "\n",
    "            self.updates.append(K.update(p, new_p))\n",
    "        return self.updates\n",
    "    \n",
    "    \n",
    "    def get_config(self):\n",
    "        config = {'lr': float(K.get_value(self.lr)),\n",
    "                  'final_lr': float(self.final_lr),\n",
    "                  'beta_1': float(K.get_value(self.beta_1)),\n",
    "                  'beta_2': float(K.get_value(self.beta_2)),\n",
    "                  'gamma': float(self.gamma),\n",
    "                  'decay': float(K.get_value(self.decay)),\n",
    "                  'epsilon': self.epsilon,\n",
    "                  'weight_decay': self.weight_decay,\n",
    "                  'amsbound': self.amsbound}\n",
    "        base_config = super(AdaBound, self).get_config()\n",
    "        return dict(list(base_config.items()) + list(config.items()))\n",
    "    \n",
    "\n",
    "def l2loss(y_true, y_pred):\n",
    "    if y_true.shape != y_pred.shape:\n",
    "        y_true = tf.image.resize(y_true, tf.shape(y_pred)[1:3])\n",
    "    return tf.nn.l2_loss(y_pred - y_true)\n",
    "\n",
    "def l1loss(y_true, y_pred):\n",
    "    if y_true.shape != y_pred.shape:\n",
    "        y_true = tf.image.resize(y_true, tf.shape(y_pred)[1:3])\n",
    "    return tf.losses.absolute_difference(y_true, y_pred)\n",
    "\n",
    "def tvloss(y_true, y_pred):\n",
    "    if y_true.shape != y_pred.shape:\n",
    "        y_true = tf.image.resize(y_true, tf.shape(y_pred)[1:3])\n",
    "    return tf.reduce_sum(tf.image.total_variation(y_true - y_pred))\n",
    "\n",
    "def psnr(y_true, y_pred):\n",
    "    if y_true.shape != y_pred.shape:\n",
    "        y_true = tf.image.resize(y_true, tf.shape(y_pred)[1:3])\n",
    "    return tf.image.psnr(y_true, y_pred, max_val=1.0)\n",
    "\n",
    "def ssim(y_true, y_pred):\n",
    "    if y_true.shape != y_pred.shape:\n",
    "        y_true = tf.image.resize(y_true, tf.shape(y_pred)[1:])\n",
    "    return tf.image.ssim(y_true, y_pred, max_val=1.0)\n",
    "\n",
    "def tv(y_true, y_pred):\n",
    "    if y_true.shape != y_pred.shape:\n",
    "        y_true = tf.image.resize(y_true, tf.shape(y_pred)[1:3])\n",
    "    return tf.reduce_sum(tf.image.total_variation(y_true - y_pred))\n",
    "\n",
    "def shannonEntropy2D(img, base=2):       \n",
    "    img_grad = np.asarray(np.gradient(img)).T\n",
    "    img_grad /= img_grad.max()\n",
    "    img_grad = np.uint8(img_grad * 255)\n",
    "    hist = np.squeeze(cv.calcHist([img_grad], [0, 1], None, [256, 256], [0, 256, 0, 256]))\n",
    "    hist /= img_grad.size\n",
    "    with warn.catch_warnings():\n",
    "        warn.simplefilter('ignore')\n",
    "        if base == 2:\n",
    "            log = np.log2\n",
    "        elif base == 10:\n",
    "            log = np.log10\n",
    "        elif base == 'e':\n",
    "            log = np.log\n",
    "        H = -1/2 * np.nansum(hist*log(hist))\n",
    "    return H"
   ]
  },
  {
   "cell_type": "code",
   "execution_count": 4,
   "metadata": {
    "ExecuteTime": {
     "end_time": "2019-11-26T08:02:42.447735Z",
     "start_time": "2019-11-26T08:02:42.443733Z"
    }
   },
   "outputs": [],
   "source": [
    "traindir = 'D:/Kenneth/Documents/VIP/Datasets/cat-and-dog/TRAIN/'\n",
    "testdir = 'D:/Kenneth/Documents/VIP/Datasets/cat-and-dog/TEST/'\n",
    "img_w, img_h, img_ch = 128, 128, 3"
   ]
  },
  {
   "cell_type": "code",
   "execution_count": 5,
   "metadata": {
    "ExecuteTime": {
     "end_time": "2019-11-26T08:02:46.157036Z",
     "start_time": "2019-11-26T08:02:46.134004Z"
    }
   },
   "outputs": [],
   "source": [
    "filenames = os.listdir(traindir)\n",
    "categories = []\n",
    "for f in filenames:\n",
    "    category = f.split('.')[0]\n",
    "    if category == 'dog':\n",
    "        categories.append(1)\n",
    "    else:\n",
    "        categories.append(0)\n",
    "        \n",
    "df = pd.DataFrame({'filename': filenames,\n",
    "                   'category': categories})\n",
    "df['category'] = df['category'].replace({0: 'cat', \n",
    "                                         1: 'dog'})"
   ]
  },
  {
   "cell_type": "code",
   "execution_count": 14,
   "metadata": {
    "ExecuteTime": {
     "end_time": "2019-11-26T08:04:54.050249Z",
     "start_time": "2019-11-26T08:04:54.041250Z"
    }
   },
   "outputs": [],
   "source": [
    "train_df, val_df = model_selection.train_test_split(df, test_size=0.2, random_state=401)\n",
    "train_df = train_df.reset_index(drop=True)\n",
    "val_df = val_df.reset_index(drop=True)\n",
    "\n",
    "total_train = train_df.shape[0]\n",
    "total_val = val_df.shape[0]\n",
    "batch_size = 200\n",
    "epochs = int(1e6)"
   ]
  },
  {
   "cell_type": "code",
   "execution_count": 15,
   "metadata": {
    "ExecuteTime": {
     "end_time": "2019-11-26T08:04:55.627235Z",
     "start_time": "2019-11-26T08:04:54.637235Z"
    }
   },
   "outputs": [
    {
     "name": "stdout",
     "output_type": "stream",
     "text": [
      "Found 6404 validated image filenames belonging to 2 classes.\n"
     ]
    }
   ],
   "source": [
    "train_datagen = preprocessing.image.ImageDataGenerator(rescale=1/255,\n",
    "                                                       rotation_range=15,\n",
    "                                                       shear_range=0.1,\n",
    "                                                       zoom_range=0.2,\n",
    "                                                       horizontal_flip=True,\n",
    "                                                       width_shift_range=0.1,\n",
    "                                                       height_shift_range=0.1)\n",
    "train_gen = train_datagen.flow_from_dataframe(train_df,\n",
    "                                              traindir,\n",
    "                                              x_col='filename',\n",
    "                                              y_col='category',\n",
    "                                              target_size=(img_w, img_h),\n",
    "                                              batch_size=batch_size,\n",
    "                                              class_mode='categorical')"
   ]
  },
  {
   "cell_type": "code",
   "execution_count": 16,
   "metadata": {
    "ExecuteTime": {
     "end_time": "2019-11-26T08:04:56.014235Z",
     "start_time": "2019-11-26T08:04:55.750236Z"
    }
   },
   "outputs": [
    {
     "name": "stdout",
     "output_type": "stream",
     "text": [
      "Found 1601 validated image filenames belonging to 2 classes.\n"
     ]
    }
   ],
   "source": [
    "val_datagen = preprocessing.image.ImageDataGenerator(rescale=1/255)\n",
    "val_gen = val_datagen.flow_from_dataframe(val_df,\n",
    "                                          traindir,\n",
    "                                          x_col='filename',\n",
    "                                          y_col='category',\n",
    "                                          target_size=(img_w, img_h),\n",
    "                                          batch_size=batch_size,\n",
    "                                          class_mode='categorical')"
   ]
  },
  {
   "cell_type": "code",
   "execution_count": 17,
   "metadata": {
    "ExecuteTime": {
     "end_time": "2019-11-26T08:04:56.979254Z",
     "start_time": "2019-11-26T08:04:56.389281Z"
    }
   },
   "outputs": [
    {
     "name": "stdout",
     "output_type": "stream",
     "text": [
      "_________________________________________________________________\n",
      "Layer (type)                 Output Shape              Param #   \n",
      "=================================================================\n",
      "layer1_conv (Conv2D)         (None, 126, 126, 32)      896       \n",
      "_________________________________________________________________\n",
      "layer1_batchnorm (BatchNorma (None, 126, 126, 32)      128       \n",
      "_________________________________________________________________\n",
      "layer1_maxpool (MaxPooling2D (None, 63, 63, 32)        0         \n",
      "_________________________________________________________________\n",
      "layer1_dropout (Dropout)     (None, 63, 63, 32)        0         \n",
      "_________________________________________________________________\n",
      "layer2_conv (Conv2D)         (None, 61, 61, 64)        18496     \n",
      "_________________________________________________________________\n",
      "layer2_batchnorm (BatchNorma (None, 61, 61, 64)        256       \n",
      "_________________________________________________________________\n",
      "layer2_maxpool (MaxPooling2D (None, 30, 30, 64)        0         \n",
      "_________________________________________________________________\n",
      "layer2_dropout (Dropout)     (None, 30, 30, 64)        0         \n",
      "_________________________________________________________________\n",
      "layer3_conv (Conv2D)         (None, 28, 28, 128)       73856     \n",
      "_________________________________________________________________\n",
      "layer3_batchnorm (BatchNorma (None, 28, 28, 128)       512       \n",
      "_________________________________________________________________\n",
      "layer3_maxpool (MaxPooling2D (None, 14, 14, 128)       0         \n",
      "_________________________________________________________________\n",
      "layer3_dropout (Dropout)     (None, 14, 14, 128)       0         \n",
      "_________________________________________________________________\n",
      "clf_flatten (Flatten)        (None, 25088)             0         \n",
      "_________________________________________________________________\n",
      "clf_fc1 (Dense)              (None, 512)               12845568  \n",
      "_________________________________________________________________\n",
      "clf_batchnorm (BatchNormaliz (None, 512)               2048      \n",
      "_________________________________________________________________\n",
      "clf_dropout (Dropout)        (None, 512)               0         \n",
      "_________________________________________________________________\n",
      "clf_fc2 (Dense)              (None, 2)                 1026      \n",
      "=================================================================\n",
      "Total params: 12,942,786\n",
      "Trainable params: 12,941,314\n",
      "Non-trainable params: 1,472\n",
      "_________________________________________________________________\n"
     ]
    }
   ],
   "source": [
    "model = models.Sequential()\n",
    "\n",
    "model.add(layers.InputLayer(input_shape=(img_w, img_h, img_ch)))\n",
    "\n",
    "for i, f in enumerate([32, 64, 128]):\n",
    "    model.add(layers.Conv2D(filters=f, \n",
    "                            kernel_size=(3, 3),\n",
    "                            activation='relu',\n",
    "                            name='layer%s_conv' %str(i+1)))\n",
    "    model.add(layers.BatchNormalization(name='layer%s_batchnorm' %str(i+1)))\n",
    "    model.add(layers.MaxPooling2D(pool_size=(2, 2),\n",
    "                                  name='layer%s_maxpool' %str(i+1)))\n",
    "    model.add(layers.Dropout(0.25,\n",
    "                             name='layer%s_dropout' %str(i+1)))\n",
    "    \n",
    "model.add(layers.Flatten(name='clf_flatten'))\n",
    "model.add(layers.Dense(units=512,\n",
    "                       activation='relu',\n",
    "                       name='clf_fc1'))\n",
    "model.add(layers.BatchNormalization(name='clf_batchnorm'))\n",
    "model.add(layers.Dropout(0.5,\n",
    "                         name='clf_dropout'))\n",
    "model.add(layers.Dense(2,\n",
    "                       activation='softmax',\n",
    "                       name='clf_fc2'))\n",
    "\n",
    "model.summary()"
   ]
  },
  {
   "cell_type": "code",
   "execution_count": 18,
   "metadata": {
    "ExecuteTime": {
     "end_time": "2019-11-26T08:04:59.432492Z",
     "start_time": "2019-11-26T08:04:59.429519Z"
    }
   },
   "outputs": [],
   "source": [
    "stopval = StopOnValue(monitor='val_loss',\n",
    "                      value=0.1,\n",
    "                      mode='min')"
   ]
  },
  {
   "cell_type": "code",
   "execution_count": 19,
   "metadata": {
    "ExecuteTime": {
     "end_time": "2019-11-26T08:05:01.218939Z",
     "start_time": "2019-11-26T08:05:01.178431Z"
    }
   },
   "outputs": [],
   "source": [
    "model.compile(loss='categorical_crossentropy',\n",
    "              optimizer='rmsprop',\n",
    "              metrics=['acc'])"
   ]
  },
  {
   "cell_type": "code",
   "execution_count": 20,
   "metadata": {
    "ExecuteTime": {
     "end_time": "2019-11-26T08:41:31.895278Z",
     "start_time": "2019-11-26T08:05:01.908063Z"
    }
   },
   "outputs": [
    {
     "data": {
      "application/vnd.jupyter.widget-view+json": {
       "model_id": "31ae46c2c742428ea6ebfeaf8b2bdfd4",
       "version_major": 2,
       "version_minor": 0
      },
      "text/plain": [
       "HBox(children=(IntProgress(value=0, description='Training', max=50, style=ProgressStyle(description_width='ini…"
      ]
     },
     "metadata": {},
     "output_type": "display_data"
    },
    {
     "data": {
      "application/vnd.jupyter.widget-view+json": {
       "model_id": "",
       "version_major": 2,
       "version_minor": 0
      },
      "text/plain": [
       "HBox(children=(IntProgress(value=0, description='Epoch 0', max=32, style=ProgressStyle(description_width='init…"
      ]
     },
     "metadata": {},
     "output_type": "display_data"
    },
    {
     "data": {
      "application/vnd.jupyter.widget-view+json": {
       "model_id": "",
       "version_major": 2,
       "version_minor": 0
      },
      "text/plain": [
       "HBox(children=(IntProgress(value=0, description='Epoch 1', max=32, style=ProgressStyle(description_width='init…"
      ]
     },
     "metadata": {},
     "output_type": "display_data"
    },
    {
     "data": {
      "application/vnd.jupyter.widget-view+json": {
       "model_id": "",
       "version_major": 2,
       "version_minor": 0
      },
      "text/plain": [
       "HBox(children=(IntProgress(value=0, description='Epoch 2', max=32, style=ProgressStyle(description_width='init…"
      ]
     },
     "metadata": {},
     "output_type": "display_data"
    },
    {
     "data": {
      "application/vnd.jupyter.widget-view+json": {
       "model_id": "",
       "version_major": 2,
       "version_minor": 0
      },
      "text/plain": [
       "HBox(children=(IntProgress(value=0, description='Epoch 3', max=32, style=ProgressStyle(description_width='init…"
      ]
     },
     "metadata": {},
     "output_type": "display_data"
    },
    {
     "data": {
      "application/vnd.jupyter.widget-view+json": {
       "model_id": "",
       "version_major": 2,
       "version_minor": 0
      },
      "text/plain": [
       "HBox(children=(IntProgress(value=0, description='Epoch 4', max=32, style=ProgressStyle(description_width='init…"
      ]
     },
     "metadata": {},
     "output_type": "display_data"
    },
    {
     "data": {
      "application/vnd.jupyter.widget-view+json": {
       "model_id": "",
       "version_major": 2,
       "version_minor": 0
      },
      "text/plain": [
       "HBox(children=(IntProgress(value=0, description='Epoch 5', max=32, style=ProgressStyle(description_width='init…"
      ]
     },
     "metadata": {},
     "output_type": "display_data"
    },
    {
     "data": {
      "application/vnd.jupyter.widget-view+json": {
       "model_id": "",
       "version_major": 2,
       "version_minor": 0
      },
      "text/plain": [
       "HBox(children=(IntProgress(value=0, description='Epoch 6', max=32, style=ProgressStyle(description_width='init…"
      ]
     },
     "metadata": {},
     "output_type": "display_data"
    },
    {
     "data": {
      "application/vnd.jupyter.widget-view+json": {
       "model_id": "",
       "version_major": 2,
       "version_minor": 0
      },
      "text/plain": [
       "HBox(children=(IntProgress(value=0, description='Epoch 7', max=32, style=ProgressStyle(description_width='init…"
      ]
     },
     "metadata": {},
     "output_type": "display_data"
    },
    {
     "data": {
      "application/vnd.jupyter.widget-view+json": {
       "model_id": "",
       "version_major": 2,
       "version_minor": 0
      },
      "text/plain": [
       "HBox(children=(IntProgress(value=0, description='Epoch 8', max=32, style=ProgressStyle(description_width='init…"
      ]
     },
     "metadata": {},
     "output_type": "display_data"
    },
    {
     "data": {
      "application/vnd.jupyter.widget-view+json": {
       "model_id": "",
       "version_major": 2,
       "version_minor": 0
      },
      "text/plain": [
       "HBox(children=(IntProgress(value=0, description='Epoch 9', max=32, style=ProgressStyle(description_width='init…"
      ]
     },
     "metadata": {},
     "output_type": "display_data"
    },
    {
     "data": {
      "application/vnd.jupyter.widget-view+json": {
       "model_id": "",
       "version_major": 2,
       "version_minor": 0
      },
      "text/plain": [
       "HBox(children=(IntProgress(value=0, description='Epoch 10', max=32, style=ProgressStyle(description_width='ini…"
      ]
     },
     "metadata": {},
     "output_type": "display_data"
    },
    {
     "data": {
      "application/vnd.jupyter.widget-view+json": {
       "model_id": "",
       "version_major": 2,
       "version_minor": 0
      },
      "text/plain": [
       "HBox(children=(IntProgress(value=0, description='Epoch 11', max=32, style=ProgressStyle(description_width='ini…"
      ]
     },
     "metadata": {},
     "output_type": "display_data"
    },
    {
     "data": {
      "application/vnd.jupyter.widget-view+json": {
       "model_id": "",
       "version_major": 2,
       "version_minor": 0
      },
      "text/plain": [
       "HBox(children=(IntProgress(value=0, description='Epoch 12', max=32, style=ProgressStyle(description_width='ini…"
      ]
     },
     "metadata": {},
     "output_type": "display_data"
    },
    {
     "data": {
      "application/vnd.jupyter.widget-view+json": {
       "model_id": "",
       "version_major": 2,
       "version_minor": 0
      },
      "text/plain": [
       "HBox(children=(IntProgress(value=0, description='Epoch 13', max=32, style=ProgressStyle(description_width='ini…"
      ]
     },
     "metadata": {},
     "output_type": "display_data"
    },
    {
     "data": {
      "application/vnd.jupyter.widget-view+json": {
       "model_id": "",
       "version_major": 2,
       "version_minor": 0
      },
      "text/plain": [
       "HBox(children=(IntProgress(value=0, description='Epoch 14', max=32, style=ProgressStyle(description_width='ini…"
      ]
     },
     "metadata": {},
     "output_type": "display_data"
    },
    {
     "data": {
      "application/vnd.jupyter.widget-view+json": {
       "model_id": "",
       "version_major": 2,
       "version_minor": 0
      },
      "text/plain": [
       "HBox(children=(IntProgress(value=0, description='Epoch 15', max=32, style=ProgressStyle(description_width='ini…"
      ]
     },
     "metadata": {},
     "output_type": "display_data"
    },
    {
     "data": {
      "application/vnd.jupyter.widget-view+json": {
       "model_id": "",
       "version_major": 2,
       "version_minor": 0
      },
      "text/plain": [
       "HBox(children=(IntProgress(value=0, description='Epoch 16', max=32, style=ProgressStyle(description_width='ini…"
      ]
     },
     "metadata": {},
     "output_type": "display_data"
    },
    {
     "data": {
      "application/vnd.jupyter.widget-view+json": {
       "model_id": "",
       "version_major": 2,
       "version_minor": 0
      },
      "text/plain": [
       "HBox(children=(IntProgress(value=0, description='Epoch 17', max=32, style=ProgressStyle(description_width='ini…"
      ]
     },
     "metadata": {},
     "output_type": "display_data"
    },
    {
     "data": {
      "application/vnd.jupyter.widget-view+json": {
       "model_id": "",
       "version_major": 2,
       "version_minor": 0
      },
      "text/plain": [
       "HBox(children=(IntProgress(value=0, description='Epoch 18', max=32, style=ProgressStyle(description_width='ini…"
      ]
     },
     "metadata": {},
     "output_type": "display_data"
    },
    {
     "data": {
      "application/vnd.jupyter.widget-view+json": {
       "model_id": "",
       "version_major": 2,
       "version_minor": 0
      },
      "text/plain": [
       "HBox(children=(IntProgress(value=0, description='Epoch 19', max=32, style=ProgressStyle(description_width='ini…"
      ]
     },
     "metadata": {},
     "output_type": "display_data"
    },
    {
     "data": {
      "application/vnd.jupyter.widget-view+json": {
       "model_id": "",
       "version_major": 2,
       "version_minor": 0
      },
      "text/plain": [
       "HBox(children=(IntProgress(value=0, description='Epoch 20', max=32, style=ProgressStyle(description_width='ini…"
      ]
     },
     "metadata": {},
     "output_type": "display_data"
    },
    {
     "data": {
      "application/vnd.jupyter.widget-view+json": {
       "model_id": "",
       "version_major": 2,
       "version_minor": 0
      },
      "text/plain": [
       "HBox(children=(IntProgress(value=0, description='Epoch 21', max=32, style=ProgressStyle(description_width='ini…"
      ]
     },
     "metadata": {},
     "output_type": "display_data"
    },
    {
     "data": {
      "application/vnd.jupyter.widget-view+json": {
       "model_id": "",
       "version_major": 2,
       "version_minor": 0
      },
      "text/plain": [
       "HBox(children=(IntProgress(value=0, description='Epoch 22', max=32, style=ProgressStyle(description_width='ini…"
      ]
     },
     "metadata": {},
     "output_type": "display_data"
    },
    {
     "data": {
      "application/vnd.jupyter.widget-view+json": {
       "model_id": "",
       "version_major": 2,
       "version_minor": 0
      },
      "text/plain": [
       "HBox(children=(IntProgress(value=0, description='Epoch 23', max=32, style=ProgressStyle(description_width='ini…"
      ]
     },
     "metadata": {},
     "output_type": "display_data"
    },
    {
     "data": {
      "application/vnd.jupyter.widget-view+json": {
       "model_id": "",
       "version_major": 2,
       "version_minor": 0
      },
      "text/plain": [
       "HBox(children=(IntProgress(value=0, description='Epoch 24', max=32, style=ProgressStyle(description_width='ini…"
      ]
     },
     "metadata": {},
     "output_type": "display_data"
    },
    {
     "data": {
      "application/vnd.jupyter.widget-view+json": {
       "model_id": "",
       "version_major": 2,
       "version_minor": 0
      },
      "text/plain": [
       "HBox(children=(IntProgress(value=0, description='Epoch 25', max=32, style=ProgressStyle(description_width='ini…"
      ]
     },
     "metadata": {},
     "output_type": "display_data"
    },
    {
     "data": {
      "application/vnd.jupyter.widget-view+json": {
       "model_id": "",
       "version_major": 2,
       "version_minor": 0
      },
      "text/plain": [
       "HBox(children=(IntProgress(value=0, description='Epoch 26', max=32, style=ProgressStyle(description_width='ini…"
      ]
     },
     "metadata": {},
     "output_type": "display_data"
    },
    {
     "data": {
      "application/vnd.jupyter.widget-view+json": {
       "model_id": "",
       "version_major": 2,
       "version_minor": 0
      },
      "text/plain": [
       "HBox(children=(IntProgress(value=0, description='Epoch 27', max=32, style=ProgressStyle(description_width='ini…"
      ]
     },
     "metadata": {},
     "output_type": "display_data"
    },
    {
     "data": {
      "application/vnd.jupyter.widget-view+json": {
       "model_id": "",
       "version_major": 2,
       "version_minor": 0
      },
      "text/plain": [
       "HBox(children=(IntProgress(value=0, description='Epoch 28', max=32, style=ProgressStyle(description_width='ini…"
      ]
     },
     "metadata": {},
     "output_type": "display_data"
    },
    {
     "data": {
      "application/vnd.jupyter.widget-view+json": {
       "model_id": "",
       "version_major": 2,
       "version_minor": 0
      },
      "text/plain": [
       "HBox(children=(IntProgress(value=0, description='Epoch 29', max=32, style=ProgressStyle(description_width='ini…"
      ]
     },
     "metadata": {},
     "output_type": "display_data"
    },
    {
     "data": {
      "application/vnd.jupyter.widget-view+json": {
       "model_id": "",
       "version_major": 2,
       "version_minor": 0
      },
      "text/plain": [
       "HBox(children=(IntProgress(value=0, description='Epoch 30', max=32, style=ProgressStyle(description_width='ini…"
      ]
     },
     "metadata": {},
     "output_type": "display_data"
    },
    {
     "data": {
      "application/vnd.jupyter.widget-view+json": {
       "model_id": "",
       "version_major": 2,
       "version_minor": 0
      },
      "text/plain": [
       "HBox(children=(IntProgress(value=0, description='Epoch 31', max=32, style=ProgressStyle(description_width='ini…"
      ]
     },
     "metadata": {},
     "output_type": "display_data"
    },
    {
     "data": {
      "application/vnd.jupyter.widget-view+json": {
       "model_id": "",
       "version_major": 2,
       "version_minor": 0
      },
      "text/plain": [
       "HBox(children=(IntProgress(value=0, description='Epoch 32', max=32, style=ProgressStyle(description_width='ini…"
      ]
     },
     "metadata": {},
     "output_type": "display_data"
    },
    {
     "data": {
      "application/vnd.jupyter.widget-view+json": {
       "model_id": "",
       "version_major": 2,
       "version_minor": 0
      },
      "text/plain": [
       "HBox(children=(IntProgress(value=0, description='Epoch 33', max=32, style=ProgressStyle(description_width='ini…"
      ]
     },
     "metadata": {},
     "output_type": "display_data"
    },
    {
     "data": {
      "application/vnd.jupyter.widget-view+json": {
       "model_id": "",
       "version_major": 2,
       "version_minor": 0
      },
      "text/plain": [
       "HBox(children=(IntProgress(value=0, description='Epoch 34', max=32, style=ProgressStyle(description_width='ini…"
      ]
     },
     "metadata": {},
     "output_type": "display_data"
    },
    {
     "data": {
      "application/vnd.jupyter.widget-view+json": {
       "model_id": "",
       "version_major": 2,
       "version_minor": 0
      },
      "text/plain": [
       "HBox(children=(IntProgress(value=0, description='Epoch 35', max=32, style=ProgressStyle(description_width='ini…"
      ]
     },
     "metadata": {},
     "output_type": "display_data"
    },
    {
     "data": {
      "application/vnd.jupyter.widget-view+json": {
       "model_id": "",
       "version_major": 2,
       "version_minor": 0
      },
      "text/plain": [
       "HBox(children=(IntProgress(value=0, description='Epoch 36', max=32, style=ProgressStyle(description_width='ini…"
      ]
     },
     "metadata": {},
     "output_type": "display_data"
    },
    {
     "data": {
      "application/vnd.jupyter.widget-view+json": {
       "model_id": "",
       "version_major": 2,
       "version_minor": 0
      },
      "text/plain": [
       "HBox(children=(IntProgress(value=0, description='Epoch 37', max=32, style=ProgressStyle(description_width='ini…"
      ]
     },
     "metadata": {},
     "output_type": "display_data"
    },
    {
     "data": {
      "application/vnd.jupyter.widget-view+json": {
       "model_id": "",
       "version_major": 2,
       "version_minor": 0
      },
      "text/plain": [
       "HBox(children=(IntProgress(value=0, description='Epoch 38', max=32, style=ProgressStyle(description_width='ini…"
      ]
     },
     "metadata": {},
     "output_type": "display_data"
    },
    {
     "data": {
      "application/vnd.jupyter.widget-view+json": {
       "model_id": "",
       "version_major": 2,
       "version_minor": 0
      },
      "text/plain": [
       "HBox(children=(IntProgress(value=0, description='Epoch 39', max=32, style=ProgressStyle(description_width='ini…"
      ]
     },
     "metadata": {},
     "output_type": "display_data"
    },
    {
     "data": {
      "application/vnd.jupyter.widget-view+json": {
       "model_id": "",
       "version_major": 2,
       "version_minor": 0
      },
      "text/plain": [
       "HBox(children=(IntProgress(value=0, description='Epoch 40', max=32, style=ProgressStyle(description_width='ini…"
      ]
     },
     "metadata": {},
     "output_type": "display_data"
    },
    {
     "data": {
      "application/vnd.jupyter.widget-view+json": {
       "model_id": "",
       "version_major": 2,
       "version_minor": 0
      },
      "text/plain": [
       "HBox(children=(IntProgress(value=0, description='Epoch 41', max=32, style=ProgressStyle(description_width='ini…"
      ]
     },
     "metadata": {},
     "output_type": "display_data"
    },
    {
     "data": {
      "application/vnd.jupyter.widget-view+json": {
       "model_id": "",
       "version_major": 2,
       "version_minor": 0
      },
      "text/plain": [
       "HBox(children=(IntProgress(value=0, description='Epoch 42', max=32, style=ProgressStyle(description_width='ini…"
      ]
     },
     "metadata": {},
     "output_type": "display_data"
    },
    {
     "data": {
      "application/vnd.jupyter.widget-view+json": {
       "model_id": "",
       "version_major": 2,
       "version_minor": 0
      },
      "text/plain": [
       "HBox(children=(IntProgress(value=0, description='Epoch 43', max=32, style=ProgressStyle(description_width='ini…"
      ]
     },
     "metadata": {},
     "output_type": "display_data"
    },
    {
     "data": {
      "application/vnd.jupyter.widget-view+json": {
       "model_id": "",
       "version_major": 2,
       "version_minor": 0
      },
      "text/plain": [
       "HBox(children=(IntProgress(value=0, description='Epoch 44', max=32, style=ProgressStyle(description_width='ini…"
      ]
     },
     "metadata": {},
     "output_type": "display_data"
    },
    {
     "data": {
      "application/vnd.jupyter.widget-view+json": {
       "model_id": "",
       "version_major": 2,
       "version_minor": 0
      },
      "text/plain": [
       "HBox(children=(IntProgress(value=0, description='Epoch 45', max=32, style=ProgressStyle(description_width='ini…"
      ]
     },
     "metadata": {},
     "output_type": "display_data"
    },
    {
     "data": {
      "application/vnd.jupyter.widget-view+json": {
       "model_id": "",
       "version_major": 2,
       "version_minor": 0
      },
      "text/plain": [
       "HBox(children=(IntProgress(value=0, description='Epoch 46', max=32, style=ProgressStyle(description_width='ini…"
      ]
     },
     "metadata": {},
     "output_type": "display_data"
    },
    {
     "data": {
      "application/vnd.jupyter.widget-view+json": {
       "model_id": "",
       "version_major": 2,
       "version_minor": 0
      },
      "text/plain": [
       "HBox(children=(IntProgress(value=0, description='Epoch 47', max=32, style=ProgressStyle(description_width='ini…"
      ]
     },
     "metadata": {},
     "output_type": "display_data"
    },
    {
     "data": {
      "application/vnd.jupyter.widget-view+json": {
       "model_id": "",
       "version_major": 2,
       "version_minor": 0
      },
      "text/plain": [
       "HBox(children=(IntProgress(value=0, description='Epoch 48', max=32, style=ProgressStyle(description_width='ini…"
      ]
     },
     "metadata": {},
     "output_type": "display_data"
    },
    {
     "data": {
      "application/vnd.jupyter.widget-view+json": {
       "model_id": "",
       "version_major": 2,
       "version_minor": 0
      },
      "text/plain": [
       "HBox(children=(IntProgress(value=0, description='Epoch 49', max=32, style=ProgressStyle(description_width='ini…"
      ]
     },
     "metadata": {},
     "output_type": "display_data"
    }
   ],
   "source": [
    "history = model.fit_generator(train_gen,\n",
    "                              epochs=50,\n",
    "                              validation_data=val_gen,\n",
    "                              validation_steps=total_val//batch_size,\n",
    "                              steps_per_epoch=total_train//batch_size,\n",
    "                              callbacks=[ktqdm(), stopval],\n",
    "                              verbose=0)"
   ]
  },
  {
   "cell_type": "code",
   "execution_count": 21,
   "metadata": {
    "ExecuteTime": {
     "end_time": "2019-11-26T08:41:35.699235Z",
     "start_time": "2019-11-26T08:41:32.069278Z"
    }
   },
   "outputs": [
    {
     "data": {
      "image/png": "[encoded data removed]",
      "text/plain": [
       "<Figure size 500x500 with 1 Axes>"
      ]
     },
     "metadata": {},
     "output_type": "display_data"
    }
   ],
   "source": [
    "plt.plot(history.epoch, history.history['loss'])\n",
    "plt.plot(history.epoch, history.history['val_loss'])\n",
    "plt.xlabel('epochs')\n",
    "plt.ylabel('loss')\n",
    "plt.show()"
   ]
  },
  {
   "cell_type": "code",
   "execution_count": 22,
   "metadata": {
    "ExecuteTime": {
     "end_time": "2019-11-26T10:21:18.516419Z",
     "start_time": "2019-11-26T10:21:16.403060Z"
    }
   },
   "outputs": [],
   "source": [
    "model.save('catdog.model')\n",
    "model.save_weights('catdog.h5')"
   ]
  },
  {
   "cell_type": "code",
   "execution_count": null,
   "metadata": {},
   "outputs": [],
   "source": []
  }
 ],
 "metadata": {
  "kernelspec": {
   "display_name": "Python 3",
   "language": "python",
   "name": "python3"
  },
  "language_info": {
   "codemirror_mode": {
    "name": "ipython",
    "version": 3
   },
   "file_extension": ".py",
   "mimetype": "text/x-python",
   "name": "python",
   "nbconvert_exporter": "python",
   "pygments_lexer": "ipython3",
   "version": "3.6.9"
  },
  "latex_envs": {
   "LaTeX_envs_menu_present": true,
   "autoclose": true,
   "autocomplete": false,
   "bibliofile": "biblio.bib",
   "cite_by": "apalike",
   "current_citInitial": 1,
   "eqLabelWithNumbers": true,
   "eqNumInitial": 1,
   "hotkeys": {
    "equation": "Ctrl-E",
    "itemize": "Ctrl-I"
   },
   "labels_anchors": false,
   "latex_user_defs": false,
   "report_style_numbering": false,
   "user_envs_cfg": false
  },
  "varInspector": {
   "cols": {
    "lenName": 16,
    "lenType": 16,
    "lenVar": 40
   },
   "kernels_config": {
    "python": {
     "delete_cmd_postfix": "",
     "delete_cmd_prefix": "del ",
     "library": "var_list.py",
     "varRefreshCmd": "print(var_dic_list())"
    },
    "r": {
     "delete_cmd_postfix": ") ",
     "delete_cmd_prefix": "rm(",
     "library": "var_list.r",
     "varRefreshCmd": "cat(var_dic_list()) "
    }
   },
   "types_to_exclude": [
    "module",
    "function",
    "builtin_function_or_method",
    "instance",
    "_Feature"
   ],
   "window_display": false
  }
 },
 "nbformat": 4,
 "nbformat_minor": 2
}
